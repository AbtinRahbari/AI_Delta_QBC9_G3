{
 "cells": [
  {
   "cell_type": "markdown",
   "metadata": {},
   "source": [
    "# First Project"
   ]
  },
  {
   "cell_type": "markdown",
   "metadata": {},
   "source": [
    "## Section Three"
   ]
  },
  {
   "cell_type": "markdown",
   "metadata": {},
   "source": [
    "### Problem no.1: Design a recommendation system"
   ]
  },
  {
   "cell_type": "markdown",
   "metadata": {},
   "source": [
    "#### Adding Libraries"
   ]
  },
  {
   "cell_type": "code",
   "execution_count": 2,
   "metadata": {},
   "outputs": [],
   "source": [
    "import numpy as np\n",
    "import pandas as pd\n",
    "from sklearn.model_selection import train_test_split\n",
    "from sklearn.cluster import KMeans"
   ]
  },
  {
   "cell_type": "markdown",
   "metadata": {},
   "source": [
    "#### Importing and checking the data"
   ]
  },
  {
   "cell_type": "code",
   "execution_count": 3,
   "metadata": {},
   "outputs": [
    {
     "name": "stderr",
     "output_type": "stream",
     "text": [
      "C:\\Users\\Abtin Rahbari\\AppData\\Local\\Temp\\ipykernel_7368\\2330768946.py:1: DtypeWarning: Columns (11,27,29,53) have mixed types. Specify dtype option on import or set low_memory=False.\n",
      "  data = pd.read_csv('../Divar.csv')\n"
     ]
    }
   ],
   "source": [
    "data = pd.read_csv('../Divar.csv')"
   ]
  },
  {
   "cell_type": "code",
   "execution_count": 4,
   "metadata": {},
   "outputs": [
    {
     "data": {
      "application/vnd.microsoft.datawrangler.viewer.v0+json": {
       "columns": [
        {
         "name": "index",
         "rawType": "int64",
         "type": "integer"
        },
        {
         "name": "Unnamed: 0",
         "rawType": "int64",
         "type": "integer"
        },
        {
         "name": "cat2_slug",
         "rawType": "object",
         "type": "string"
        },
        {
         "name": "cat3_slug",
         "rawType": "object",
         "type": "string"
        },
        {
         "name": "city_slug",
         "rawType": "object",
         "type": "string"
        },
        {
         "name": "neighborhood_slug",
         "rawType": "object",
         "type": "string"
        },
        {
         "name": "created_at_month",
         "rawType": "object",
         "type": "string"
        },
        {
         "name": "user_type",
         "rawType": "object",
         "type": "unknown"
        },
        {
         "name": "description",
         "rawType": "object",
         "type": "string"
        },
        {
         "name": "title",
         "rawType": "object",
         "type": "string"
        },
        {
         "name": "rent_mode",
         "rawType": "object",
         "type": "unknown"
        },
        {
         "name": "rent_value",
         "rawType": "float64",
         "type": "float"
        },
        {
         "name": "rent_to_single",
         "rawType": "object",
         "type": "unknown"
        },
        {
         "name": "rent_type",
         "rawType": "object",
         "type": "unknown"
        },
        {
         "name": "price_mode",
         "rawType": "object",
         "type": "unknown"
        },
        {
         "name": "price_value",
         "rawType": "float64",
         "type": "float"
        },
        {
         "name": "credit_mode",
         "rawType": "object",
         "type": "unknown"
        },
        {
         "name": "credit_value",
         "rawType": "float64",
         "type": "float"
        },
        {
         "name": "rent_credit_transform",
         "rawType": "object",
         "type": "unknown"
        },
        {
         "name": "transformable_price",
         "rawType": "object",
         "type": "unknown"
        },
        {
         "name": "transformable_credit",
         "rawType": "float64",
         "type": "float"
        },
        {
         "name": "transformed_credit",
         "rawType": "float64",
         "type": "float"
        },
        {
         "name": "transformable_rent",
         "rawType": "float64",
         "type": "float"
        },
        {
         "name": "transformed_rent",
         "rawType": "float64",
         "type": "float"
        },
        {
         "name": "land_size",
         "rawType": "float64",
         "type": "float"
        },
        {
         "name": "building_size",
         "rawType": "float64",
         "type": "float"
        },
        {
         "name": "deed_type",
         "rawType": "object",
         "type": "unknown"
        },
        {
         "name": "has_business_deed",
         "rawType": "object",
         "type": "unknown"
        },
        {
         "name": "floor",
         "rawType": "object",
         "type": "unknown"
        },
        {
         "name": "rooms_count",
         "rawType": "object",
         "type": "string"
        },
        {
         "name": "total_floors_count",
         "rawType": "object",
         "type": "unknown"
        },
        {
         "name": "unit_per_floor",
         "rawType": "object",
         "type": "unknown"
        },
        {
         "name": "has_balcony",
         "rawType": "object",
         "type": "unknown"
        },
        {
         "name": "has_elevator",
         "rawType": "object",
         "type": "unknown"
        },
        {
         "name": "has_warehouse",
         "rawType": "object",
         "type": "unknown"
        },
        {
         "name": "has_parking",
         "rawType": "object",
         "type": "unknown"
        },
        {
         "name": "construction_year",
         "rawType": "object",
         "type": "unknown"
        },
        {
         "name": "is_rebuilt",
         "rawType": "object",
         "type": "unknown"
        },
        {
         "name": "has_water",
         "rawType": "object",
         "type": "unknown"
        },
        {
         "name": "has_warm_water_provider",
         "rawType": "object",
         "type": "unknown"
        },
        {
         "name": "has_electricity",
         "rawType": "object",
         "type": "unknown"
        },
        {
         "name": "has_gas",
         "rawType": "object",
         "type": "unknown"
        },
        {
         "name": "has_heating_system",
         "rawType": "object",
         "type": "unknown"
        },
        {
         "name": "has_cooling_system",
         "rawType": "object",
         "type": "unknown"
        },
        {
         "name": "has_restroom",
         "rawType": "object",
         "type": "unknown"
        },
        {
         "name": "has_security_guard",
         "rawType": "object",
         "type": "unknown"
        },
        {
         "name": "has_barbecue",
         "rawType": "object",
         "type": "unknown"
        },
        {
         "name": "building_direction",
         "rawType": "object",
         "type": "unknown"
        },
        {
         "name": "has_pool",
         "rawType": "object",
         "type": "unknown"
        },
        {
         "name": "has_jacuzzi",
         "rawType": "object",
         "type": "unknown"
        },
        {
         "name": "has_sauna",
         "rawType": "object",
         "type": "unknown"
        },
        {
         "name": "floor_material",
         "rawType": "object",
         "type": "unknown"
        },
        {
         "name": "property_type",
         "rawType": "object",
         "type": "unknown"
        },
        {
         "name": "regular_person_capacity",
         "rawType": "float64",
         "type": "float"
        },
        {
         "name": "extra_person_capacity",
         "rawType": "object",
         "type": "unknown"
        },
        {
         "name": "cost_per_extra_person",
         "rawType": "float64",
         "type": "float"
        },
        {
         "name": "rent_price_on_regular_days",
         "rawType": "float64",
         "type": "float"
        },
        {
         "name": "rent_price_on_special_days",
         "rawType": "float64",
         "type": "float"
        },
        {
         "name": "rent_price_at_weekends",
         "rawType": "float64",
         "type": "float"
        },
        {
         "name": "location_latitude",
         "rawType": "float64",
         "type": "float"
        },
        {
         "name": "location_longitude",
         "rawType": "float64",
         "type": "float"
        },
        {
         "name": "location_radius",
         "rawType": "float64",
         "type": "float"
        }
       ],
       "ref": "6b89e029-80b1-40b4-a477-cb006096a6f3",
       "rows": [
        [
         "0",
         "0",
         "temporary-rent",
         "villa",
         "karaj",
         "mehrshahr",
         "2024-08-01 00:00:00",
         "مشاور املاک",
         "۵۰۰متر\n۲۰۰متر بنا دوبلکس\n۳خواب\nاستخر آبگرم داخل\nسیستم صوتی حرفه ای\nسرگرمی ایرهاکی\nبرای اطلاعات بیشتر تماس حاصل فرماید",
         "باغ ویلا اجاره روزانه استخر داخل لشکرآباد سهیلیه",
         null,
         null,
         null,
         null,
         null,
         null,
         null,
         null,
         null,
         null,
         null,
         null,
         null,
         null,
         null,
         "500.0",
         null,
         null,
         null,
         "سه",
         null,
         null,
         null,
         null,
         null,
         null,
         null,
         null,
         null,
         null,
         null,
         null,
         null,
         null,
         null,
         null,
         null,
         null,
         null,
         null,
         null,
         null,
         null,
         "4.0",
         "6",
         "350000.0",
         "1500000.0",
         "3500000000.0",
         "3500000.0",
         "35.81168365478516",
         "50.93659973144531",
         "500.0"
        ],
        [
         "1",
         "1",
         "residential-sell",
         "apartment-sell",
         "tehran",
         "gholhak",
         "2024-05-01 00:00:00",
         "مشاور املاک",
         "دسترسی عالی به مترو و شریعتی \nمشاعات تمیز \nبدون ایراد \nآخرین بازدید \nفروشنده واقعی\nشایان",
         "۶۰ متر قلهک فول امکانات",
         null,
         null,
         null,
         null,
         "مقطوع",
         "8500000000.0",
         null,
         null,
         null,
         null,
         null,
         null,
         null,
         null,
         null,
         "60.0",
         null,
         null,
         "3",
         "یک",
         null,
         null,
         null,
         "True",
         "True",
         "True",
         "۱۳۸۴",
         null,
         null,
         null,
         null,
         null,
         null,
         null,
         null,
         null,
         null,
         null,
         null,
         null,
         null,
         null,
         null,
         null,
         null,
         null,
         null,
         null,
         null,
         null,
         null,
         "500.0"
        ],
        [
         "2",
         "2",
         "residential-rent",
         "apartment-rent",
         "tehran",
         "tohid",
         "2024-10-01 00:00:00",
         null,
         "تخلیه پایان ماه",
         "آپارتمان ۳ خوابه ۱۳۲ متر",
         "مقطوع",
         "26000000.0",
         null,
         null,
         null,
         null,
         "مقطوع",
         "750000000.0",
         "False",
         "False",
         "750000000.0",
         null,
         "26000000.0",
         null,
         null,
         "132.0",
         null,
         null,
         "3",
         "سه",
         null,
         null,
         null,
         "True",
         "True",
         "True",
         "۱۴۰۱",
         "False",
         null,
         null,
         null,
         null,
         null,
         null,
         null,
         null,
         null,
         null,
         null,
         null,
         null,
         null,
         null,
         null,
         null,
         null,
         null,
         null,
         null,
         "35.70386505126953",
         "51.37345886230469",
         null
        ],
        [
         "3",
         "3",
         "commercial-rent",
         "office-rent",
         "tehran",
         "elahiyeh",
         "2024-06-01 00:00:00",
         null,
         "فرشته تاپ لوکیشن\n۹۰ متر موقعیت اداری\nیک اتاق مستر\nدید و وییو مشجر\nروبه باغ\nنور و نقشه عالی\nلابی و لابی من و سرایدار مقیم\nلوکس و شیک\nمدرن\nهمه مشاغل\nبازدید = با قرار داد\nفایل کاملا شخصی\nکلید نزد املاک است\nمجید پارسا",
         "فرشته ۹۰ متر دفتر کار مدرن موقعیت اداری",
         "مقطوع",
         "95000000.0",
         null,
         null,
         null,
         null,
         "مقطوع",
         "950000000.0",
         "False",
         "False",
         "950000000.0",
         null,
         "95000000.0",
         null,
         null,
         "90.0",
         null,
         null,
         "4",
         "یک",
         null,
         null,
         null,
         "True",
         "False",
         "True",
         "۱۴۰۰",
         null,
         null,
         null,
         null,
         null,
         null,
         null,
         null,
         null,
         null,
         null,
         null,
         null,
         null,
         null,
         null,
         null,
         null,
         null,
         null,
         null,
         null,
         null,
         null,
         null
        ],
        [
         "4",
         "4",
         "residential-sell",
         "apartment-sell",
         "mashhad",
         "emamreza",
         "2024-05-01 00:00:00",
         "مشاور املاک",
         "هلدینگ ساختمانی اکبری\n\nهمراه شما هستیم برای خریدی مطمئن\n\nکلید موجود اولین بازدید ۱۰۰ در ۱۰۰ پسند\n\nمشخصات ملک:\n✨صفر کلید نخورده\n\n✨مشاعات تمام سنگ\n\n✨واحد رو به آفتاب\n\n✨پذیرایی سرتاسر پنجره\n\n✨اتاق ها هر دو‌ نورگیر همرا به تراس رویایی\n\n✨آشپزخانه تمام چوب با نقشه عالی\n——————————————————\n\n✨با ارائه مشاوره تخصصی املاک در خدمت شما هستیم \nمشاور شما : ایرانی\n( ۲۴ ساعته پاسخگوی شما عزیزان هستم)✨\n\n⁉️برای دریافت اطلاعات بیشتر ،نحوه پرداخت و بازدید☎️ تماس حاصل فرمایید",
         "۱۱۵ متری/شمالی رو به آفتاب/اکبری",
         null,
         null,
         null,
         null,
         "مقطوع",
         "5750000000.0",
         null,
         null,
         null,
         null,
         null,
         null,
         null,
         null,
         null,
         "115.0",
         "single_page",
         null,
         "4",
         "دو",
         "6",
         null,
         "true",
         "True",
         "True",
         "True",
         "۱۴۰۳",
         null,
         null,
         "package",
         null,
         null,
         "shoofaj",
         "air_conditioner",
         "squat_seat",
         null,
         null,
         "north",
         null,
         null,
         null,
         "ceramic",
         null,
         null,
         null,
         null,
         null,
         null,
         null,
         null,
         null,
         null
        ]
       ],
       "shape": {
        "columns": 61,
        "rows": 5
       }
      },
      "text/html": [
       "<div>\n",
       "<style scoped>\n",
       "    .dataframe tbody tr th:only-of-type {\n",
       "        vertical-align: middle;\n",
       "    }\n",
       "\n",
       "    .dataframe tbody tr th {\n",
       "        vertical-align: top;\n",
       "    }\n",
       "\n",
       "    .dataframe thead th {\n",
       "        text-align: right;\n",
       "    }\n",
       "</style>\n",
       "<table border=\"1\" class=\"dataframe\">\n",
       "  <thead>\n",
       "    <tr style=\"text-align: right;\">\n",
       "      <th></th>\n",
       "      <th>Unnamed: 0</th>\n",
       "      <th>cat2_slug</th>\n",
       "      <th>cat3_slug</th>\n",
       "      <th>city_slug</th>\n",
       "      <th>neighborhood_slug</th>\n",
       "      <th>created_at_month</th>\n",
       "      <th>user_type</th>\n",
       "      <th>description</th>\n",
       "      <th>title</th>\n",
       "      <th>rent_mode</th>\n",
       "      <th>...</th>\n",
       "      <th>property_type</th>\n",
       "      <th>regular_person_capacity</th>\n",
       "      <th>extra_person_capacity</th>\n",
       "      <th>cost_per_extra_person</th>\n",
       "      <th>rent_price_on_regular_days</th>\n",
       "      <th>rent_price_on_special_days</th>\n",
       "      <th>rent_price_at_weekends</th>\n",
       "      <th>location_latitude</th>\n",
       "      <th>location_longitude</th>\n",
       "      <th>location_radius</th>\n",
       "    </tr>\n",
       "  </thead>\n",
       "  <tbody>\n",
       "    <tr>\n",
       "      <th>0</th>\n",
       "      <td>0</td>\n",
       "      <td>temporary-rent</td>\n",
       "      <td>villa</td>\n",
       "      <td>karaj</td>\n",
       "      <td>mehrshahr</td>\n",
       "      <td>2024-08-01 00:00:00</td>\n",
       "      <td>مشاور املاک</td>\n",
       "      <td>۵۰۰متر\\n۲۰۰متر بنا دوبلکس\\n۳خواب\\nاستخر آبگرم ...</td>\n",
       "      <td>باغ ویلا اجاره روزانه استخر داخل لشکرآباد سهیلیه</td>\n",
       "      <td>NaN</td>\n",
       "      <td>...</td>\n",
       "      <td>NaN</td>\n",
       "      <td>4.0</td>\n",
       "      <td>6</td>\n",
       "      <td>350000.0</td>\n",
       "      <td>1500000.0</td>\n",
       "      <td>3.500000e+09</td>\n",
       "      <td>3500000.0</td>\n",
       "      <td>35.811684</td>\n",
       "      <td>50.936600</td>\n",
       "      <td>500.0</td>\n",
       "    </tr>\n",
       "    <tr>\n",
       "      <th>1</th>\n",
       "      <td>1</td>\n",
       "      <td>residential-sell</td>\n",
       "      <td>apartment-sell</td>\n",
       "      <td>tehran</td>\n",
       "      <td>gholhak</td>\n",
       "      <td>2024-05-01 00:00:00</td>\n",
       "      <td>مشاور املاک</td>\n",
       "      <td>دسترسی عالی به مترو و شریعتی \\nمشاعات تمیز \\nب...</td>\n",
       "      <td>۶۰ متر قلهک فول امکانات</td>\n",
       "      <td>NaN</td>\n",
       "      <td>...</td>\n",
       "      <td>NaN</td>\n",
       "      <td>NaN</td>\n",
       "      <td>NaN</td>\n",
       "      <td>NaN</td>\n",
       "      <td>NaN</td>\n",
       "      <td>NaN</td>\n",
       "      <td>NaN</td>\n",
       "      <td>NaN</td>\n",
       "      <td>NaN</td>\n",
       "      <td>500.0</td>\n",
       "    </tr>\n",
       "    <tr>\n",
       "      <th>2</th>\n",
       "      <td>2</td>\n",
       "      <td>residential-rent</td>\n",
       "      <td>apartment-rent</td>\n",
       "      <td>tehran</td>\n",
       "      <td>tohid</td>\n",
       "      <td>2024-10-01 00:00:00</td>\n",
       "      <td>NaN</td>\n",
       "      <td>تخلیه پایان ماه</td>\n",
       "      <td>آپارتمان ۳ خوابه ۱۳۲ متر</td>\n",
       "      <td>مقطوع</td>\n",
       "      <td>...</td>\n",
       "      <td>NaN</td>\n",
       "      <td>NaN</td>\n",
       "      <td>NaN</td>\n",
       "      <td>NaN</td>\n",
       "      <td>NaN</td>\n",
       "      <td>NaN</td>\n",
       "      <td>NaN</td>\n",
       "      <td>35.703865</td>\n",
       "      <td>51.373459</td>\n",
       "      <td>NaN</td>\n",
       "    </tr>\n",
       "    <tr>\n",
       "      <th>3</th>\n",
       "      <td>3</td>\n",
       "      <td>commercial-rent</td>\n",
       "      <td>office-rent</td>\n",
       "      <td>tehran</td>\n",
       "      <td>elahiyeh</td>\n",
       "      <td>2024-06-01 00:00:00</td>\n",
       "      <td>NaN</td>\n",
       "      <td>فرشته تاپ لوکیشن\\n۹۰ متر موقعیت اداری\\nیک اتاق...</td>\n",
       "      <td>فرشته ۹۰ متر دفتر کار مدرن موقعیت اداری</td>\n",
       "      <td>مقطوع</td>\n",
       "      <td>...</td>\n",
       "      <td>NaN</td>\n",
       "      <td>NaN</td>\n",
       "      <td>NaN</td>\n",
       "      <td>NaN</td>\n",
       "      <td>NaN</td>\n",
       "      <td>NaN</td>\n",
       "      <td>NaN</td>\n",
       "      <td>NaN</td>\n",
       "      <td>NaN</td>\n",
       "      <td>NaN</td>\n",
       "    </tr>\n",
       "    <tr>\n",
       "      <th>4</th>\n",
       "      <td>4</td>\n",
       "      <td>residential-sell</td>\n",
       "      <td>apartment-sell</td>\n",
       "      <td>mashhad</td>\n",
       "      <td>emamreza</td>\n",
       "      <td>2024-05-01 00:00:00</td>\n",
       "      <td>مشاور املاک</td>\n",
       "      <td>هلدینگ ساختمانی اکبری\\n\\nهمراه شما هستیم برای ...</td>\n",
       "      <td>۱۱۵ متری/شمالی رو به آفتاب/اکبری</td>\n",
       "      <td>NaN</td>\n",
       "      <td>...</td>\n",
       "      <td>NaN</td>\n",
       "      <td>NaN</td>\n",
       "      <td>NaN</td>\n",
       "      <td>NaN</td>\n",
       "      <td>NaN</td>\n",
       "      <td>NaN</td>\n",
       "      <td>NaN</td>\n",
       "      <td>NaN</td>\n",
       "      <td>NaN</td>\n",
       "      <td>NaN</td>\n",
       "    </tr>\n",
       "  </tbody>\n",
       "</table>\n",
       "<p>5 rows × 61 columns</p>\n",
       "</div>"
      ],
      "text/plain": [
       "   Unnamed: 0         cat2_slug       cat3_slug city_slug neighborhood_slug  \\\n",
       "0           0    temporary-rent           villa     karaj         mehrshahr   \n",
       "1           1  residential-sell  apartment-sell    tehran           gholhak   \n",
       "2           2  residential-rent  apartment-rent    tehran             tohid   \n",
       "3           3   commercial-rent     office-rent    tehran          elahiyeh   \n",
       "4           4  residential-sell  apartment-sell   mashhad          emamreza   \n",
       "\n",
       "      created_at_month    user_type  \\\n",
       "0  2024-08-01 00:00:00  مشاور املاک   \n",
       "1  2024-05-01 00:00:00  مشاور املاک   \n",
       "2  2024-10-01 00:00:00          NaN   \n",
       "3  2024-06-01 00:00:00          NaN   \n",
       "4  2024-05-01 00:00:00  مشاور املاک   \n",
       "\n",
       "                                         description  \\\n",
       "0  ۵۰۰متر\\n۲۰۰متر بنا دوبلکس\\n۳خواب\\nاستخر آبگرم ...   \n",
       "1  دسترسی عالی به مترو و شریعتی \\nمشاعات تمیز \\nب...   \n",
       "2                                    تخلیه پایان ماه   \n",
       "3  فرشته تاپ لوکیشن\\n۹۰ متر موقعیت اداری\\nیک اتاق...   \n",
       "4  هلدینگ ساختمانی اکبری\\n\\nهمراه شما هستیم برای ...   \n",
       "\n",
       "                                              title rent_mode  ...  \\\n",
       "0  باغ ویلا اجاره روزانه استخر داخل لشکرآباد سهیلیه       NaN  ...   \n",
       "1                           ۶۰ متر قلهک فول امکانات       NaN  ...   \n",
       "2                          آپارتمان ۳ خوابه ۱۳۲ متر     مقطوع  ...   \n",
       "3           فرشته ۹۰ متر دفتر کار مدرن موقعیت اداری     مقطوع  ...   \n",
       "4                  ۱۱۵ متری/شمالی رو به آفتاب/اکبری       NaN  ...   \n",
       "\n",
       "   property_type regular_person_capacity extra_person_capacity  \\\n",
       "0            NaN                     4.0                     6   \n",
       "1            NaN                     NaN                   NaN   \n",
       "2            NaN                     NaN                   NaN   \n",
       "3            NaN                     NaN                   NaN   \n",
       "4            NaN                     NaN                   NaN   \n",
       "\n",
       "  cost_per_extra_person  rent_price_on_regular_days  \\\n",
       "0              350000.0                   1500000.0   \n",
       "1                   NaN                         NaN   \n",
       "2                   NaN                         NaN   \n",
       "3                   NaN                         NaN   \n",
       "4                   NaN                         NaN   \n",
       "\n",
       "  rent_price_on_special_days  rent_price_at_weekends location_latitude  \\\n",
       "0               3.500000e+09               3500000.0         35.811684   \n",
       "1                        NaN                     NaN               NaN   \n",
       "2                        NaN                     NaN         35.703865   \n",
       "3                        NaN                     NaN               NaN   \n",
       "4                        NaN                     NaN               NaN   \n",
       "\n",
       "  location_longitude  location_radius  \n",
       "0          50.936600            500.0  \n",
       "1                NaN            500.0  \n",
       "2          51.373459              NaN  \n",
       "3                NaN              NaN  \n",
       "4                NaN              NaN  \n",
       "\n",
       "[5 rows x 61 columns]"
      ]
     },
     "execution_count": 4,
     "metadata": {},
     "output_type": "execute_result"
    }
   ],
   "source": [
    "data.head()"
   ]
  },
  {
   "cell_type": "code",
   "execution_count": 5,
   "metadata": {},
   "outputs": [
    {
     "data": {
      "text/plain": [
       "(1000000, 61)"
      ]
     },
     "execution_count": 5,
     "metadata": {},
     "output_type": "execute_result"
    }
   ],
   "source": [
    "data.shape"
   ]
  },
  {
   "cell_type": "markdown",
   "metadata": {},
   "source": [
    "#### Removing the useless Columns"
   ]
  },
  {
   "cell_type": "code",
   "execution_count": 6,
   "metadata": {},
   "outputs": [],
   "source": [
    "data = data.set_index('Unnamed: 0')\n",
    "data.index.name = None"
   ]
  },
  {
   "cell_type": "code",
   "execution_count": 7,
   "metadata": {},
   "outputs": [],
   "source": [
    "data = data.drop(columns=['description', 'title'])\n",
    "data2 = data.drop(columns=['user_type', 'rent_to_single'])"
   ]
  },
  {
   "cell_type": "code",
   "execution_count": 8,
   "metadata": {},
   "outputs": [
    {
     "data": {
      "application/vnd.microsoft.datawrangler.viewer.v0+json": {
       "columns": [
        {
         "name": "index",
         "rawType": "int64",
         "type": "integer"
        },
        {
         "name": "cat2_slug",
         "rawType": "object",
         "type": "string"
        },
        {
         "name": "cat3_slug",
         "rawType": "object",
         "type": "string"
        },
        {
         "name": "city_slug",
         "rawType": "object",
         "type": "string"
        },
        {
         "name": "neighborhood_slug",
         "rawType": "object",
         "type": "string"
        },
        {
         "name": "created_at_month",
         "rawType": "object",
         "type": "string"
        },
        {
         "name": "rent_mode",
         "rawType": "object",
         "type": "unknown"
        },
        {
         "name": "rent_value",
         "rawType": "float64",
         "type": "float"
        },
        {
         "name": "rent_type",
         "rawType": "object",
         "type": "unknown"
        },
        {
         "name": "price_mode",
         "rawType": "object",
         "type": "unknown"
        },
        {
         "name": "price_value",
         "rawType": "float64",
         "type": "float"
        },
        {
         "name": "credit_mode",
         "rawType": "object",
         "type": "unknown"
        },
        {
         "name": "credit_value",
         "rawType": "float64",
         "type": "float"
        },
        {
         "name": "rent_credit_transform",
         "rawType": "object",
         "type": "unknown"
        },
        {
         "name": "transformable_price",
         "rawType": "object",
         "type": "unknown"
        },
        {
         "name": "transformable_credit",
         "rawType": "float64",
         "type": "float"
        },
        {
         "name": "transformed_credit",
         "rawType": "float64",
         "type": "float"
        },
        {
         "name": "transformable_rent",
         "rawType": "float64",
         "type": "float"
        },
        {
         "name": "transformed_rent",
         "rawType": "float64",
         "type": "float"
        },
        {
         "name": "land_size",
         "rawType": "float64",
         "type": "float"
        },
        {
         "name": "building_size",
         "rawType": "float64",
         "type": "float"
        },
        {
         "name": "deed_type",
         "rawType": "object",
         "type": "unknown"
        },
        {
         "name": "has_business_deed",
         "rawType": "object",
         "type": "unknown"
        },
        {
         "name": "floor",
         "rawType": "object",
         "type": "unknown"
        },
        {
         "name": "rooms_count",
         "rawType": "object",
         "type": "string"
        },
        {
         "name": "total_floors_count",
         "rawType": "object",
         "type": "unknown"
        },
        {
         "name": "unit_per_floor",
         "rawType": "object",
         "type": "unknown"
        },
        {
         "name": "has_balcony",
         "rawType": "object",
         "type": "unknown"
        },
        {
         "name": "has_elevator",
         "rawType": "object",
         "type": "unknown"
        },
        {
         "name": "has_warehouse",
         "rawType": "object",
         "type": "unknown"
        },
        {
         "name": "has_parking",
         "rawType": "object",
         "type": "unknown"
        },
        {
         "name": "construction_year",
         "rawType": "object",
         "type": "unknown"
        },
        {
         "name": "is_rebuilt",
         "rawType": "object",
         "type": "unknown"
        },
        {
         "name": "has_water",
         "rawType": "object",
         "type": "unknown"
        },
        {
         "name": "has_warm_water_provider",
         "rawType": "object",
         "type": "unknown"
        },
        {
         "name": "has_electricity",
         "rawType": "object",
         "type": "unknown"
        },
        {
         "name": "has_gas",
         "rawType": "object",
         "type": "unknown"
        },
        {
         "name": "has_heating_system",
         "rawType": "object",
         "type": "unknown"
        },
        {
         "name": "has_cooling_system",
         "rawType": "object",
         "type": "unknown"
        },
        {
         "name": "has_restroom",
         "rawType": "object",
         "type": "unknown"
        },
        {
         "name": "has_security_guard",
         "rawType": "object",
         "type": "unknown"
        },
        {
         "name": "has_barbecue",
         "rawType": "object",
         "type": "unknown"
        },
        {
         "name": "building_direction",
         "rawType": "object",
         "type": "unknown"
        },
        {
         "name": "has_pool",
         "rawType": "object",
         "type": "unknown"
        },
        {
         "name": "has_jacuzzi",
         "rawType": "object",
         "type": "unknown"
        },
        {
         "name": "has_sauna",
         "rawType": "object",
         "type": "unknown"
        },
        {
         "name": "floor_material",
         "rawType": "object",
         "type": "unknown"
        },
        {
         "name": "property_type",
         "rawType": "object",
         "type": "unknown"
        },
        {
         "name": "regular_person_capacity",
         "rawType": "float64",
         "type": "float"
        },
        {
         "name": "extra_person_capacity",
         "rawType": "object",
         "type": "unknown"
        },
        {
         "name": "cost_per_extra_person",
         "rawType": "float64",
         "type": "float"
        },
        {
         "name": "rent_price_on_regular_days",
         "rawType": "float64",
         "type": "float"
        },
        {
         "name": "rent_price_on_special_days",
         "rawType": "float64",
         "type": "float"
        },
        {
         "name": "rent_price_at_weekends",
         "rawType": "float64",
         "type": "float"
        },
        {
         "name": "location_latitude",
         "rawType": "float64",
         "type": "float"
        },
        {
         "name": "location_longitude",
         "rawType": "float64",
         "type": "float"
        },
        {
         "name": "location_radius",
         "rawType": "float64",
         "type": "float"
        }
       ],
       "ref": "eb651f60-476a-4d04-833d-128d76588657",
       "rows": [
        [
         "0",
         "temporary-rent",
         "villa",
         "karaj",
         "mehrshahr",
         "2024-08-01 00:00:00",
         null,
         null,
         null,
         null,
         null,
         null,
         null,
         null,
         null,
         null,
         null,
         null,
         null,
         null,
         "500.0",
         null,
         null,
         null,
         "سه",
         null,
         null,
         null,
         null,
         null,
         null,
         null,
         null,
         null,
         null,
         null,
         null,
         null,
         null,
         null,
         null,
         null,
         null,
         null,
         null,
         null,
         null,
         null,
         "4.0",
         "6",
         "350000.0",
         "1500000.0",
         "3500000000.0",
         "3500000.0",
         "35.81168365478516",
         "50.93659973144531",
         "500.0"
        ],
        [
         "1",
         "residential-sell",
         "apartment-sell",
         "tehran",
         "gholhak",
         "2024-05-01 00:00:00",
         null,
         null,
         null,
         "مقطوع",
         "8500000000.0",
         null,
         null,
         null,
         null,
         null,
         null,
         null,
         null,
         null,
         "60.0",
         null,
         null,
         "3",
         "یک",
         null,
         null,
         null,
         "True",
         "True",
         "True",
         "۱۳۸۴",
         null,
         null,
         null,
         null,
         null,
         null,
         null,
         null,
         null,
         null,
         null,
         null,
         null,
         null,
         null,
         null,
         null,
         null,
         null,
         null,
         null,
         null,
         null,
         null,
         "500.0"
        ],
        [
         "2",
         "residential-rent",
         "apartment-rent",
         "tehran",
         "tohid",
         "2024-10-01 00:00:00",
         "مقطوع",
         "26000000.0",
         null,
         null,
         null,
         "مقطوع",
         "750000000.0",
         "False",
         "False",
         "750000000.0",
         null,
         "26000000.0",
         null,
         null,
         "132.0",
         null,
         null,
         "3",
         "سه",
         null,
         null,
         null,
         "True",
         "True",
         "True",
         "۱۴۰۱",
         "False",
         null,
         null,
         null,
         null,
         null,
         null,
         null,
         null,
         null,
         null,
         null,
         null,
         null,
         null,
         null,
         null,
         null,
         null,
         null,
         null,
         null,
         "35.70386505126953",
         "51.37345886230469",
         null
        ],
        [
         "3",
         "commercial-rent",
         "office-rent",
         "tehran",
         "elahiyeh",
         "2024-06-01 00:00:00",
         "مقطوع",
         "95000000.0",
         null,
         null,
         null,
         "مقطوع",
         "950000000.0",
         "False",
         "False",
         "950000000.0",
         null,
         "95000000.0",
         null,
         null,
         "90.0",
         null,
         null,
         "4",
         "یک",
         null,
         null,
         null,
         "True",
         "False",
         "True",
         "۱۴۰۰",
         null,
         null,
         null,
         null,
         null,
         null,
         null,
         null,
         null,
         null,
         null,
         null,
         null,
         null,
         null,
         null,
         null,
         null,
         null,
         null,
         null,
         null,
         null,
         null,
         null
        ],
        [
         "4",
         "residential-sell",
         "apartment-sell",
         "mashhad",
         "emamreza",
         "2024-05-01 00:00:00",
         null,
         null,
         null,
         "مقطوع",
         "5750000000.0",
         null,
         null,
         null,
         null,
         null,
         null,
         null,
         null,
         null,
         "115.0",
         "single_page",
         null,
         "4",
         "دو",
         "6",
         null,
         "true",
         "True",
         "True",
         "True",
         "۱۴۰۳",
         null,
         null,
         "package",
         null,
         null,
         "shoofaj",
         "air_conditioner",
         "squat_seat",
         null,
         null,
         "north",
         null,
         null,
         null,
         "ceramic",
         null,
         null,
         null,
         null,
         null,
         null,
         null,
         null,
         null,
         null
        ]
       ],
       "shape": {
        "columns": 56,
        "rows": 5
       }
      },
      "text/html": [
       "<div>\n",
       "<style scoped>\n",
       "    .dataframe tbody tr th:only-of-type {\n",
       "        vertical-align: middle;\n",
       "    }\n",
       "\n",
       "    .dataframe tbody tr th {\n",
       "        vertical-align: top;\n",
       "    }\n",
       "\n",
       "    .dataframe thead th {\n",
       "        text-align: right;\n",
       "    }\n",
       "</style>\n",
       "<table border=\"1\" class=\"dataframe\">\n",
       "  <thead>\n",
       "    <tr style=\"text-align: right;\">\n",
       "      <th></th>\n",
       "      <th>cat2_slug</th>\n",
       "      <th>cat3_slug</th>\n",
       "      <th>city_slug</th>\n",
       "      <th>neighborhood_slug</th>\n",
       "      <th>created_at_month</th>\n",
       "      <th>rent_mode</th>\n",
       "      <th>rent_value</th>\n",
       "      <th>rent_type</th>\n",
       "      <th>price_mode</th>\n",
       "      <th>price_value</th>\n",
       "      <th>...</th>\n",
       "      <th>property_type</th>\n",
       "      <th>regular_person_capacity</th>\n",
       "      <th>extra_person_capacity</th>\n",
       "      <th>cost_per_extra_person</th>\n",
       "      <th>rent_price_on_regular_days</th>\n",
       "      <th>rent_price_on_special_days</th>\n",
       "      <th>rent_price_at_weekends</th>\n",
       "      <th>location_latitude</th>\n",
       "      <th>location_longitude</th>\n",
       "      <th>location_radius</th>\n",
       "    </tr>\n",
       "  </thead>\n",
       "  <tbody>\n",
       "    <tr>\n",
       "      <th>0</th>\n",
       "      <td>temporary-rent</td>\n",
       "      <td>villa</td>\n",
       "      <td>karaj</td>\n",
       "      <td>mehrshahr</td>\n",
       "      <td>2024-08-01 00:00:00</td>\n",
       "      <td>NaN</td>\n",
       "      <td>NaN</td>\n",
       "      <td>NaN</td>\n",
       "      <td>NaN</td>\n",
       "      <td>NaN</td>\n",
       "      <td>...</td>\n",
       "      <td>NaN</td>\n",
       "      <td>4.0</td>\n",
       "      <td>6</td>\n",
       "      <td>350000.0</td>\n",
       "      <td>1500000.0</td>\n",
       "      <td>3.500000e+09</td>\n",
       "      <td>3500000.0</td>\n",
       "      <td>35.811684</td>\n",
       "      <td>50.936600</td>\n",
       "      <td>500.0</td>\n",
       "    </tr>\n",
       "    <tr>\n",
       "      <th>1</th>\n",
       "      <td>residential-sell</td>\n",
       "      <td>apartment-sell</td>\n",
       "      <td>tehran</td>\n",
       "      <td>gholhak</td>\n",
       "      <td>2024-05-01 00:00:00</td>\n",
       "      <td>NaN</td>\n",
       "      <td>NaN</td>\n",
       "      <td>NaN</td>\n",
       "      <td>مقطوع</td>\n",
       "      <td>8.500000e+09</td>\n",
       "      <td>...</td>\n",
       "      <td>NaN</td>\n",
       "      <td>NaN</td>\n",
       "      <td>NaN</td>\n",
       "      <td>NaN</td>\n",
       "      <td>NaN</td>\n",
       "      <td>NaN</td>\n",
       "      <td>NaN</td>\n",
       "      <td>NaN</td>\n",
       "      <td>NaN</td>\n",
       "      <td>500.0</td>\n",
       "    </tr>\n",
       "    <tr>\n",
       "      <th>2</th>\n",
       "      <td>residential-rent</td>\n",
       "      <td>apartment-rent</td>\n",
       "      <td>tehran</td>\n",
       "      <td>tohid</td>\n",
       "      <td>2024-10-01 00:00:00</td>\n",
       "      <td>مقطوع</td>\n",
       "      <td>26000000.0</td>\n",
       "      <td>NaN</td>\n",
       "      <td>NaN</td>\n",
       "      <td>NaN</td>\n",
       "      <td>...</td>\n",
       "      <td>NaN</td>\n",
       "      <td>NaN</td>\n",
       "      <td>NaN</td>\n",
       "      <td>NaN</td>\n",
       "      <td>NaN</td>\n",
       "      <td>NaN</td>\n",
       "      <td>NaN</td>\n",
       "      <td>35.703865</td>\n",
       "      <td>51.373459</td>\n",
       "      <td>NaN</td>\n",
       "    </tr>\n",
       "    <tr>\n",
       "      <th>3</th>\n",
       "      <td>commercial-rent</td>\n",
       "      <td>office-rent</td>\n",
       "      <td>tehran</td>\n",
       "      <td>elahiyeh</td>\n",
       "      <td>2024-06-01 00:00:00</td>\n",
       "      <td>مقطوع</td>\n",
       "      <td>95000000.0</td>\n",
       "      <td>NaN</td>\n",
       "      <td>NaN</td>\n",
       "      <td>NaN</td>\n",
       "      <td>...</td>\n",
       "      <td>NaN</td>\n",
       "      <td>NaN</td>\n",
       "      <td>NaN</td>\n",
       "      <td>NaN</td>\n",
       "      <td>NaN</td>\n",
       "      <td>NaN</td>\n",
       "      <td>NaN</td>\n",
       "      <td>NaN</td>\n",
       "      <td>NaN</td>\n",
       "      <td>NaN</td>\n",
       "    </tr>\n",
       "    <tr>\n",
       "      <th>4</th>\n",
       "      <td>residential-sell</td>\n",
       "      <td>apartment-sell</td>\n",
       "      <td>mashhad</td>\n",
       "      <td>emamreza</td>\n",
       "      <td>2024-05-01 00:00:00</td>\n",
       "      <td>NaN</td>\n",
       "      <td>NaN</td>\n",
       "      <td>NaN</td>\n",
       "      <td>مقطوع</td>\n",
       "      <td>5.750000e+09</td>\n",
       "      <td>...</td>\n",
       "      <td>NaN</td>\n",
       "      <td>NaN</td>\n",
       "      <td>NaN</td>\n",
       "      <td>NaN</td>\n",
       "      <td>NaN</td>\n",
       "      <td>NaN</td>\n",
       "      <td>NaN</td>\n",
       "      <td>NaN</td>\n",
       "      <td>NaN</td>\n",
       "      <td>NaN</td>\n",
       "    </tr>\n",
       "  </tbody>\n",
       "</table>\n",
       "<p>5 rows × 56 columns</p>\n",
       "</div>"
      ],
      "text/plain": [
       "          cat2_slug       cat3_slug city_slug neighborhood_slug  \\\n",
       "0    temporary-rent           villa     karaj         mehrshahr   \n",
       "1  residential-sell  apartment-sell    tehran           gholhak   \n",
       "2  residential-rent  apartment-rent    tehran             tohid   \n",
       "3   commercial-rent     office-rent    tehran          elahiyeh   \n",
       "4  residential-sell  apartment-sell   mashhad          emamreza   \n",
       "\n",
       "      created_at_month rent_mode  rent_value rent_type price_mode  \\\n",
       "0  2024-08-01 00:00:00       NaN         NaN       NaN        NaN   \n",
       "1  2024-05-01 00:00:00       NaN         NaN       NaN      مقطوع   \n",
       "2  2024-10-01 00:00:00     مقطوع  26000000.0       NaN        NaN   \n",
       "3  2024-06-01 00:00:00     مقطوع  95000000.0       NaN        NaN   \n",
       "4  2024-05-01 00:00:00       NaN         NaN       NaN      مقطوع   \n",
       "\n",
       "    price_value  ... property_type  regular_person_capacity  \\\n",
       "0           NaN  ...           NaN                      4.0   \n",
       "1  8.500000e+09  ...           NaN                      NaN   \n",
       "2           NaN  ...           NaN                      NaN   \n",
       "3           NaN  ...           NaN                      NaN   \n",
       "4  5.750000e+09  ...           NaN                      NaN   \n",
       "\n",
       "  extra_person_capacity cost_per_extra_person  rent_price_on_regular_days  \\\n",
       "0                     6              350000.0                   1500000.0   \n",
       "1                   NaN                   NaN                         NaN   \n",
       "2                   NaN                   NaN                         NaN   \n",
       "3                   NaN                   NaN                         NaN   \n",
       "4                   NaN                   NaN                         NaN   \n",
       "\n",
       "   rent_price_on_special_days  rent_price_at_weekends  location_latitude  \\\n",
       "0                3.500000e+09               3500000.0          35.811684   \n",
       "1                         NaN                     NaN                NaN   \n",
       "2                         NaN                     NaN          35.703865   \n",
       "3                         NaN                     NaN                NaN   \n",
       "4                         NaN                     NaN                NaN   \n",
       "\n",
       "   location_longitude  location_radius  \n",
       "0           50.936600            500.0  \n",
       "1                 NaN            500.0  \n",
       "2           51.373459              NaN  \n",
       "3                 NaN              NaN  \n",
       "4                 NaN              NaN  \n",
       "\n",
       "[5 rows x 56 columns]"
      ]
     },
     "execution_count": 8,
     "metadata": {},
     "output_type": "execute_result"
    }
   ],
   "source": [
    "data2.head()"
   ]
  },
  {
   "cell_type": "markdown",
   "metadata": {},
   "source": [
    "#### Changing the Values of room_count column to be understandable"
   ]
  },
  {
   "cell_type": "code",
   "execution_count": 9,
   "metadata": {},
   "outputs": [
    {
     "name": "stderr",
     "output_type": "stream",
     "text": [
      "C:\\Users\\Abtin Rahbari\\AppData\\Local\\Temp\\ipykernel_7368\\2997536687.py:1: FutureWarning: Downcasting behavior in `replace` is deprecated and will be removed in a future version. To retain the old behavior, explicitly call `result.infer_objects(copy=False)`. To opt-in to the future behavior, set `pd.set_option('future.no_silent_downcasting', True)`\n",
      "  data2['rooms_count'] = data2['rooms_count'].replace({\n"
     ]
    }
   ],
   "source": [
    "data2['rooms_count'] = data2['rooms_count'].replace({\n",
    "    'بدون اتاق': 0,\n",
    "    'یک': 1,\n",
    "    'دو': 2,\n",
    "    'سه': 3,\n",
    "    'چهار': 4,\n",
    "    'پنج یا بیشتر': 5\n",
    "})"
   ]
  },
  {
   "cell_type": "markdown",
   "metadata": {},
   "source": [
    "#### Combining floor count and apt in floors for column reduction"
   ]
  },
  {
   "cell_type": "code",
   "execution_count": 10,
   "metadata": {},
   "outputs": [],
   "source": [
    "floors = data2['total_floors_count']\n",
    "floors.fillna('0', inplace=True)\n",
    "#floors.unique()\n",
    "floors = floors.replace({\n",
    "    '30+': 30,\n",
    "    'unselect': 0   \n",
    "})\n",
    "floors = floors.astype('int16')\n",
    "\n",
    "upf = data2['unit_per_floor']    #Units per Floor\n",
    "upf.fillna('0', inplace=True)\n",
    "#upf.unique()\n",
    "upf = upf.replace({\n",
    "    'more_than_8': 9,\n",
    "    'unselect': 0   \n",
    "})\n",
    "upf = upf.astype('int16')\n",
    "data2['total_units'] = floors * upf\n",
    "data2['total_units'] = data2['total_units'].replace({\n",
    "    0 : np.nan\n",
    "})"
   ]
  },
  {
   "cell_type": "code",
   "execution_count": 11,
   "metadata": {},
   "outputs": [],
   "source": [
    "data2 = data2.drop(columns=['unit_per_floor', 'total_floors_count'])"
   ]
  },
  {
   "cell_type": "code",
   "execution_count": 12,
   "metadata": {},
   "outputs": [],
   "source": [
    "del data\n",
    "del floors\n",
    "del upf"
   ]
  },
  {
   "cell_type": "code",
   "execution_count": 13,
   "metadata": {},
   "outputs": [],
   "source": [
    "data2.created_at_month = pd.to_datetime(data2.created_at_month)\n",
    "data2.created_at_month = data2.created_at_month.dt.strftime('%Y-%m')"
   ]
  }
 ],
 "metadata": {
  "kernelspec": {
   "display_name": "Python 3",
   "language": "python",
   "name": "python3"
  },
  "language_info": {
   "codemirror_mode": {
    "name": "ipython",
    "version": 3
   },
   "file_extension": ".py",
   "mimetype": "text/x-python",
   "name": "python",
   "nbconvert_exporter": "python",
   "pygments_lexer": "ipython3",
   "version": "3.12.10"
  }
 },
 "nbformat": 4,
 "nbformat_minor": 2
}
