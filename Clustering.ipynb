{
 "cells": [
  {
   "cell_type": "markdown",
   "metadata": {},
   "source": [
    "# First Project"
   ]
  },
  {
   "cell_type": "markdown",
   "metadata": {},
   "source": [
    "## Section Three"
   ]
  },
  {
   "cell_type": "markdown",
   "metadata": {},
   "source": [
    "### Problem no.1: Design a recommendation system"
   ]
  },
  {
   "cell_type": "markdown",
   "metadata": {},
   "source": [
    "#### Adding Libraries"
   ]
  },
  {
   "cell_type": "code",
   "execution_count": 1,
   "metadata": {},
   "outputs": [],
   "source": [
    "import numpy as np\n",
    "import pandas as pd\n",
    "from sklearn.model_selection import train_test_split\n",
    "from sklearn.cluster import KMeans\n",
    "from sklearn.preprocessing import LabelEncoder\n",
    "from sklearn.neighbors import KNeighborsClassifier"
   ]
  },
  {
   "cell_type": "markdown",
   "metadata": {},
   "source": [
    "#### Importing and checking the data"
   ]
  },
  {
   "cell_type": "code",
   "execution_count": 2,
   "metadata": {},
   "outputs": [
    {
     "name": "stderr",
     "output_type": "stream",
     "text": [
      "C:\\Users\\Abtin Rahbari\\AppData\\Local\\Temp\\ipykernel_2080\\2330768946.py:1: DtypeWarning: Columns (11,27,29,53) have mixed types. Specify dtype option on import or set low_memory=False.\n",
      "  data = pd.read_csv('../Divar.csv')\n"
     ]
    }
   ],
   "source": [
    "data = pd.read_csv('../Divar.csv')"
   ]
  },
  {
   "cell_type": "code",
   "execution_count": 3,
   "metadata": {},
   "outputs": [
    {
     "data": {
      "application/vnd.microsoft.datawrangler.viewer.v0+json": {
       "columns": [
        {
         "name": "index",
         "rawType": "int64",
         "type": "integer"
        },
        {
         "name": "Unnamed: 0",
         "rawType": "int64",
         "type": "integer"
        },
        {
         "name": "cat2_slug",
         "rawType": "object",
         "type": "string"
        },
        {
         "name": "cat3_slug",
         "rawType": "object",
         "type": "string"
        },
        {
         "name": "city_slug",
         "rawType": "object",
         "type": "string"
        },
        {
         "name": "neighborhood_slug",
         "rawType": "object",
         "type": "string"
        },
        {
         "name": "created_at_month",
         "rawType": "object",
         "type": "string"
        },
        {
         "name": "user_type",
         "rawType": "object",
         "type": "unknown"
        },
        {
         "name": "description",
         "rawType": "object",
         "type": "string"
        },
        {
         "name": "title",
         "rawType": "object",
         "type": "string"
        },
        {
         "name": "rent_mode",
         "rawType": "object",
         "type": "unknown"
        },
        {
         "name": "rent_value",
         "rawType": "float64",
         "type": "float"
        },
        {
         "name": "rent_to_single",
         "rawType": "object",
         "type": "unknown"
        },
        {
         "name": "rent_type",
         "rawType": "object",
         "type": "unknown"
        },
        {
         "name": "price_mode",
         "rawType": "object",
         "type": "unknown"
        },
        {
         "name": "price_value",
         "rawType": "float64",
         "type": "float"
        },
        {
         "name": "credit_mode",
         "rawType": "object",
         "type": "unknown"
        },
        {
         "name": "credit_value",
         "rawType": "float64",
         "type": "float"
        },
        {
         "name": "rent_credit_transform",
         "rawType": "object",
         "type": "unknown"
        },
        {
         "name": "transformable_price",
         "rawType": "object",
         "type": "unknown"
        },
        {
         "name": "transformable_credit",
         "rawType": "float64",
         "type": "float"
        },
        {
         "name": "transformed_credit",
         "rawType": "float64",
         "type": "float"
        },
        {
         "name": "transformable_rent",
         "rawType": "float64",
         "type": "float"
        },
        {
         "name": "transformed_rent",
         "rawType": "float64",
         "type": "float"
        },
        {
         "name": "land_size",
         "rawType": "float64",
         "type": "float"
        },
        {
         "name": "building_size",
         "rawType": "float64",
         "type": "float"
        },
        {
         "name": "deed_type",
         "rawType": "object",
         "type": "unknown"
        },
        {
         "name": "has_business_deed",
         "rawType": "object",
         "type": "unknown"
        },
        {
         "name": "floor",
         "rawType": "object",
         "type": "unknown"
        },
        {
         "name": "rooms_count",
         "rawType": "object",
         "type": "string"
        },
        {
         "name": "total_floors_count",
         "rawType": "object",
         "type": "unknown"
        },
        {
         "name": "unit_per_floor",
         "rawType": "object",
         "type": "unknown"
        },
        {
         "name": "has_balcony",
         "rawType": "object",
         "type": "unknown"
        },
        {
         "name": "has_elevator",
         "rawType": "object",
         "type": "unknown"
        },
        {
         "name": "has_warehouse",
         "rawType": "object",
         "type": "unknown"
        },
        {
         "name": "has_parking",
         "rawType": "object",
         "type": "unknown"
        },
        {
         "name": "construction_year",
         "rawType": "object",
         "type": "unknown"
        },
        {
         "name": "is_rebuilt",
         "rawType": "object",
         "type": "unknown"
        },
        {
         "name": "has_water",
         "rawType": "object",
         "type": "unknown"
        },
        {
         "name": "has_warm_water_provider",
         "rawType": "object",
         "type": "unknown"
        },
        {
         "name": "has_electricity",
         "rawType": "object",
         "type": "unknown"
        },
        {
         "name": "has_gas",
         "rawType": "object",
         "type": "unknown"
        },
        {
         "name": "has_heating_system",
         "rawType": "object",
         "type": "unknown"
        },
        {
         "name": "has_cooling_system",
         "rawType": "object",
         "type": "unknown"
        },
        {
         "name": "has_restroom",
         "rawType": "object",
         "type": "unknown"
        },
        {
         "name": "has_security_guard",
         "rawType": "object",
         "type": "unknown"
        },
        {
         "name": "has_barbecue",
         "rawType": "object",
         "type": "unknown"
        },
        {
         "name": "building_direction",
         "rawType": "object",
         "type": "unknown"
        },
        {
         "name": "has_pool",
         "rawType": "object",
         "type": "unknown"
        },
        {
         "name": "has_jacuzzi",
         "rawType": "object",
         "type": "unknown"
        },
        {
         "name": "has_sauna",
         "rawType": "object",
         "type": "unknown"
        },
        {
         "name": "floor_material",
         "rawType": "object",
         "type": "unknown"
        },
        {
         "name": "property_type",
         "rawType": "object",
         "type": "unknown"
        },
        {
         "name": "regular_person_capacity",
         "rawType": "float64",
         "type": "float"
        },
        {
         "name": "extra_person_capacity",
         "rawType": "object",
         "type": "unknown"
        },
        {
         "name": "cost_per_extra_person",
         "rawType": "float64",
         "type": "float"
        },
        {
         "name": "rent_price_on_regular_days",
         "rawType": "float64",
         "type": "float"
        },
        {
         "name": "rent_price_on_special_days",
         "rawType": "float64",
         "type": "float"
        },
        {
         "name": "rent_price_at_weekends",
         "rawType": "float64",
         "type": "float"
        },
        {
         "name": "location_latitude",
         "rawType": "float64",
         "type": "float"
        },
        {
         "name": "location_longitude",
         "rawType": "float64",
         "type": "float"
        },
        {
         "name": "location_radius",
         "rawType": "float64",
         "type": "float"
        }
       ],
       "ref": "819ac0c7-90eb-451f-aea6-168fd815edb3",
       "rows": [
        [
         "0",
         "0",
         "temporary-rent",
         "villa",
         "karaj",
         "mehrshahr",
         "2024-08-01 00:00:00",
         "مشاور املاک",
         "۵۰۰متر\n۲۰۰متر بنا دوبلکس\n۳خواب\nاستخر آبگرم داخل\nسیستم صوتی حرفه ای\nسرگرمی ایرهاکی\nبرای اطلاعات بیشتر تماس حاصل فرماید",
         "باغ ویلا اجاره روزانه استخر داخل لشکرآباد سهیلیه",
         null,
         null,
         null,
         null,
         null,
         null,
         null,
         null,
         null,
         null,
         null,
         null,
         null,
         null,
         null,
         "500.0",
         null,
         null,
         null,
         "سه",
         null,
         null,
         null,
         null,
         null,
         null,
         null,
         null,
         null,
         null,
         null,
         null,
         null,
         null,
         null,
         null,
         null,
         null,
         null,
         null,
         null,
         null,
         null,
         "4.0",
         "6",
         "350000.0",
         "1500000.0",
         "3500000000.0",
         "3500000.0",
         "35.81168365478516",
         "50.93659973144531",
         "500.0"
        ],
        [
         "1",
         "1",
         "residential-sell",
         "apartment-sell",
         "tehran",
         "gholhak",
         "2024-05-01 00:00:00",
         "مشاور املاک",
         "دسترسی عالی به مترو و شریعتی \nمشاعات تمیز \nبدون ایراد \nآخرین بازدید \nفروشنده واقعی\nشایان",
         "۶۰ متر قلهک فول امکانات",
         null,
         null,
         null,
         null,
         "مقطوع",
         "8500000000.0",
         null,
         null,
         null,
         null,
         null,
         null,
         null,
         null,
         null,
         "60.0",
         null,
         null,
         "3",
         "یک",
         null,
         null,
         null,
         "True",
         "True",
         "True",
         "۱۳۸۴",
         null,
         null,
         null,
         null,
         null,
         null,
         null,
         null,
         null,
         null,
         null,
         null,
         null,
         null,
         null,
         null,
         null,
         null,
         null,
         null,
         null,
         null,
         null,
         null,
         "500.0"
        ],
        [
         "2",
         "2",
         "residential-rent",
         "apartment-rent",
         "tehran",
         "tohid",
         "2024-10-01 00:00:00",
         null,
         "تخلیه پایان ماه",
         "آپارتمان ۳ خوابه ۱۳۲ متر",
         "مقطوع",
         "26000000.0",
         null,
         null,
         null,
         null,
         "مقطوع",
         "750000000.0",
         "False",
         "False",
         "750000000.0",
         null,
         "26000000.0",
         null,
         null,
         "132.0",
         null,
         null,
         "3",
         "سه",
         null,
         null,
         null,
         "True",
         "True",
         "True",
         "۱۴۰۱",
         "False",
         null,
         null,
         null,
         null,
         null,
         null,
         null,
         null,
         null,
         null,
         null,
         null,
         null,
         null,
         null,
         null,
         null,
         null,
         null,
         null,
         null,
         "35.70386505126953",
         "51.37345886230469",
         null
        ],
        [
         "3",
         "3",
         "commercial-rent",
         "office-rent",
         "tehran",
         "elahiyeh",
         "2024-06-01 00:00:00",
         null,
         "فرشته تاپ لوکیشن\n۹۰ متر موقعیت اداری\nیک اتاق مستر\nدید و وییو مشجر\nروبه باغ\nنور و نقشه عالی\nلابی و لابی من و سرایدار مقیم\nلوکس و شیک\nمدرن\nهمه مشاغل\nبازدید = با قرار داد\nفایل کاملا شخصی\nکلید نزد املاک است\nمجید پارسا",
         "فرشته ۹۰ متر دفتر کار مدرن موقعیت اداری",
         "مقطوع",
         "95000000.0",
         null,
         null,
         null,
         null,
         "مقطوع",
         "950000000.0",
         "False",
         "False",
         "950000000.0",
         null,
         "95000000.0",
         null,
         null,
         "90.0",
         null,
         null,
         "4",
         "یک",
         null,
         null,
         null,
         "True",
         "False",
         "True",
         "۱۴۰۰",
         null,
         null,
         null,
         null,
         null,
         null,
         null,
         null,
         null,
         null,
         null,
         null,
         null,
         null,
         null,
         null,
         null,
         null,
         null,
         null,
         null,
         null,
         null,
         null,
         null
        ],
        [
         "4",
         "4",
         "residential-sell",
         "apartment-sell",
         "mashhad",
         "emamreza",
         "2024-05-01 00:00:00",
         "مشاور املاک",
         "هلدینگ ساختمانی اکبری\n\nهمراه شما هستیم برای خریدی مطمئن\n\nکلید موجود اولین بازدید ۱۰۰ در ۱۰۰ پسند\n\nمشخصات ملک:\n✨صفر کلید نخورده\n\n✨مشاعات تمام سنگ\n\n✨واحد رو به آفتاب\n\n✨پذیرایی سرتاسر پنجره\n\n✨اتاق ها هر دو‌ نورگیر همرا به تراس رویایی\n\n✨آشپزخانه تمام چوب با نقشه عالی\n——————————————————\n\n✨با ارائه مشاوره تخصصی املاک در خدمت شما هستیم \nمشاور شما : ایرانی\n( ۲۴ ساعته پاسخگوی شما عزیزان هستم)✨\n\n⁉️برای دریافت اطلاعات بیشتر ،نحوه پرداخت و بازدید☎️ تماس حاصل فرمایید",
         "۱۱۵ متری/شمالی رو به آفتاب/اکبری",
         null,
         null,
         null,
         null,
         "مقطوع",
         "5750000000.0",
         null,
         null,
         null,
         null,
         null,
         null,
         null,
         null,
         null,
         "115.0",
         "single_page",
         null,
         "4",
         "دو",
         "6",
         null,
         "true",
         "True",
         "True",
         "True",
         "۱۴۰۳",
         null,
         null,
         "package",
         null,
         null,
         "shoofaj",
         "air_conditioner",
         "squat_seat",
         null,
         null,
         "north",
         null,
         null,
         null,
         "ceramic",
         null,
         null,
         null,
         null,
         null,
         null,
         null,
         null,
         null,
         null
        ]
       ],
       "shape": {
        "columns": 61,
        "rows": 5
       }
      },
      "text/html": [
       "<div>\n",
       "<style scoped>\n",
       "    .dataframe tbody tr th:only-of-type {\n",
       "        vertical-align: middle;\n",
       "    }\n",
       "\n",
       "    .dataframe tbody tr th {\n",
       "        vertical-align: top;\n",
       "    }\n",
       "\n",
       "    .dataframe thead th {\n",
       "        text-align: right;\n",
       "    }\n",
       "</style>\n",
       "<table border=\"1\" class=\"dataframe\">\n",
       "  <thead>\n",
       "    <tr style=\"text-align: right;\">\n",
       "      <th></th>\n",
       "      <th>Unnamed: 0</th>\n",
       "      <th>cat2_slug</th>\n",
       "      <th>cat3_slug</th>\n",
       "      <th>city_slug</th>\n",
       "      <th>neighborhood_slug</th>\n",
       "      <th>created_at_month</th>\n",
       "      <th>user_type</th>\n",
       "      <th>description</th>\n",
       "      <th>title</th>\n",
       "      <th>rent_mode</th>\n",
       "      <th>...</th>\n",
       "      <th>property_type</th>\n",
       "      <th>regular_person_capacity</th>\n",
       "      <th>extra_person_capacity</th>\n",
       "      <th>cost_per_extra_person</th>\n",
       "      <th>rent_price_on_regular_days</th>\n",
       "      <th>rent_price_on_special_days</th>\n",
       "      <th>rent_price_at_weekends</th>\n",
       "      <th>location_latitude</th>\n",
       "      <th>location_longitude</th>\n",
       "      <th>location_radius</th>\n",
       "    </tr>\n",
       "  </thead>\n",
       "  <tbody>\n",
       "    <tr>\n",
       "      <th>0</th>\n",
       "      <td>0</td>\n",
       "      <td>temporary-rent</td>\n",
       "      <td>villa</td>\n",
       "      <td>karaj</td>\n",
       "      <td>mehrshahr</td>\n",
       "      <td>2024-08-01 00:00:00</td>\n",
       "      <td>مشاور املاک</td>\n",
       "      <td>۵۰۰متر\\n۲۰۰متر بنا دوبلکس\\n۳خواب\\nاستخر آبگرم ...</td>\n",
       "      <td>باغ ویلا اجاره روزانه استخر داخل لشکرآباد سهیلیه</td>\n",
       "      <td>NaN</td>\n",
       "      <td>...</td>\n",
       "      <td>NaN</td>\n",
       "      <td>4.0</td>\n",
       "      <td>6</td>\n",
       "      <td>350000.0</td>\n",
       "      <td>1500000.0</td>\n",
       "      <td>3.500000e+09</td>\n",
       "      <td>3500000.0</td>\n",
       "      <td>35.811684</td>\n",
       "      <td>50.936600</td>\n",
       "      <td>500.0</td>\n",
       "    </tr>\n",
       "    <tr>\n",
       "      <th>1</th>\n",
       "      <td>1</td>\n",
       "      <td>residential-sell</td>\n",
       "      <td>apartment-sell</td>\n",
       "      <td>tehran</td>\n",
       "      <td>gholhak</td>\n",
       "      <td>2024-05-01 00:00:00</td>\n",
       "      <td>مشاور املاک</td>\n",
       "      <td>دسترسی عالی به مترو و شریعتی \\nمشاعات تمیز \\nب...</td>\n",
       "      <td>۶۰ متر قلهک فول امکانات</td>\n",
       "      <td>NaN</td>\n",
       "      <td>...</td>\n",
       "      <td>NaN</td>\n",
       "      <td>NaN</td>\n",
       "      <td>NaN</td>\n",
       "      <td>NaN</td>\n",
       "      <td>NaN</td>\n",
       "      <td>NaN</td>\n",
       "      <td>NaN</td>\n",
       "      <td>NaN</td>\n",
       "      <td>NaN</td>\n",
       "      <td>500.0</td>\n",
       "    </tr>\n",
       "    <tr>\n",
       "      <th>2</th>\n",
       "      <td>2</td>\n",
       "      <td>residential-rent</td>\n",
       "      <td>apartment-rent</td>\n",
       "      <td>tehran</td>\n",
       "      <td>tohid</td>\n",
       "      <td>2024-10-01 00:00:00</td>\n",
       "      <td>NaN</td>\n",
       "      <td>تخلیه پایان ماه</td>\n",
       "      <td>آپارتمان ۳ خوابه ۱۳۲ متر</td>\n",
       "      <td>مقطوع</td>\n",
       "      <td>...</td>\n",
       "      <td>NaN</td>\n",
       "      <td>NaN</td>\n",
       "      <td>NaN</td>\n",
       "      <td>NaN</td>\n",
       "      <td>NaN</td>\n",
       "      <td>NaN</td>\n",
       "      <td>NaN</td>\n",
       "      <td>35.703865</td>\n",
       "      <td>51.373459</td>\n",
       "      <td>NaN</td>\n",
       "    </tr>\n",
       "    <tr>\n",
       "      <th>3</th>\n",
       "      <td>3</td>\n",
       "      <td>commercial-rent</td>\n",
       "      <td>office-rent</td>\n",
       "      <td>tehran</td>\n",
       "      <td>elahiyeh</td>\n",
       "      <td>2024-06-01 00:00:00</td>\n",
       "      <td>NaN</td>\n",
       "      <td>فرشته تاپ لوکیشن\\n۹۰ متر موقعیت اداری\\nیک اتاق...</td>\n",
       "      <td>فرشته ۹۰ متر دفتر کار مدرن موقعیت اداری</td>\n",
       "      <td>مقطوع</td>\n",
       "      <td>...</td>\n",
       "      <td>NaN</td>\n",
       "      <td>NaN</td>\n",
       "      <td>NaN</td>\n",
       "      <td>NaN</td>\n",
       "      <td>NaN</td>\n",
       "      <td>NaN</td>\n",
       "      <td>NaN</td>\n",
       "      <td>NaN</td>\n",
       "      <td>NaN</td>\n",
       "      <td>NaN</td>\n",
       "    </tr>\n",
       "    <tr>\n",
       "      <th>4</th>\n",
       "      <td>4</td>\n",
       "      <td>residential-sell</td>\n",
       "      <td>apartment-sell</td>\n",
       "      <td>mashhad</td>\n",
       "      <td>emamreza</td>\n",
       "      <td>2024-05-01 00:00:00</td>\n",
       "      <td>مشاور املاک</td>\n",
       "      <td>هلدینگ ساختمانی اکبری\\n\\nهمراه شما هستیم برای ...</td>\n",
       "      <td>۱۱۵ متری/شمالی رو به آفتاب/اکبری</td>\n",
       "      <td>NaN</td>\n",
       "      <td>...</td>\n",
       "      <td>NaN</td>\n",
       "      <td>NaN</td>\n",
       "      <td>NaN</td>\n",
       "      <td>NaN</td>\n",
       "      <td>NaN</td>\n",
       "      <td>NaN</td>\n",
       "      <td>NaN</td>\n",
       "      <td>NaN</td>\n",
       "      <td>NaN</td>\n",
       "      <td>NaN</td>\n",
       "    </tr>\n",
       "  </tbody>\n",
       "</table>\n",
       "<p>5 rows × 61 columns</p>\n",
       "</div>"
      ],
      "text/plain": [
       "   Unnamed: 0         cat2_slug       cat3_slug city_slug neighborhood_slug  \\\n",
       "0           0    temporary-rent           villa     karaj         mehrshahr   \n",
       "1           1  residential-sell  apartment-sell    tehran           gholhak   \n",
       "2           2  residential-rent  apartment-rent    tehran             tohid   \n",
       "3           3   commercial-rent     office-rent    tehran          elahiyeh   \n",
       "4           4  residential-sell  apartment-sell   mashhad          emamreza   \n",
       "\n",
       "      created_at_month    user_type  \\\n",
       "0  2024-08-01 00:00:00  مشاور املاک   \n",
       "1  2024-05-01 00:00:00  مشاور املاک   \n",
       "2  2024-10-01 00:00:00          NaN   \n",
       "3  2024-06-01 00:00:00          NaN   \n",
       "4  2024-05-01 00:00:00  مشاور املاک   \n",
       "\n",
       "                                         description  \\\n",
       "0  ۵۰۰متر\\n۲۰۰متر بنا دوبلکس\\n۳خواب\\nاستخر آبگرم ...   \n",
       "1  دسترسی عالی به مترو و شریعتی \\nمشاعات تمیز \\nب...   \n",
       "2                                    تخلیه پایان ماه   \n",
       "3  فرشته تاپ لوکیشن\\n۹۰ متر موقعیت اداری\\nیک اتاق...   \n",
       "4  هلدینگ ساختمانی اکبری\\n\\nهمراه شما هستیم برای ...   \n",
       "\n",
       "                                              title rent_mode  ...  \\\n",
       "0  باغ ویلا اجاره روزانه استخر داخل لشکرآباد سهیلیه       NaN  ...   \n",
       "1                           ۶۰ متر قلهک فول امکانات       NaN  ...   \n",
       "2                          آپارتمان ۳ خوابه ۱۳۲ متر     مقطوع  ...   \n",
       "3           فرشته ۹۰ متر دفتر کار مدرن موقعیت اداری     مقطوع  ...   \n",
       "4                  ۱۱۵ متری/شمالی رو به آفتاب/اکبری       NaN  ...   \n",
       "\n",
       "   property_type regular_person_capacity extra_person_capacity  \\\n",
       "0            NaN                     4.0                     6   \n",
       "1            NaN                     NaN                   NaN   \n",
       "2            NaN                     NaN                   NaN   \n",
       "3            NaN                     NaN                   NaN   \n",
       "4            NaN                     NaN                   NaN   \n",
       "\n",
       "  cost_per_extra_person  rent_price_on_regular_days  \\\n",
       "0              350000.0                   1500000.0   \n",
       "1                   NaN                         NaN   \n",
       "2                   NaN                         NaN   \n",
       "3                   NaN                         NaN   \n",
       "4                   NaN                         NaN   \n",
       "\n",
       "  rent_price_on_special_days  rent_price_at_weekends location_latitude  \\\n",
       "0               3.500000e+09               3500000.0         35.811684   \n",
       "1                        NaN                     NaN               NaN   \n",
       "2                        NaN                     NaN         35.703865   \n",
       "3                        NaN                     NaN               NaN   \n",
       "4                        NaN                     NaN               NaN   \n",
       "\n",
       "  location_longitude  location_radius  \n",
       "0          50.936600            500.0  \n",
       "1                NaN            500.0  \n",
       "2          51.373459              NaN  \n",
       "3                NaN              NaN  \n",
       "4                NaN              NaN  \n",
       "\n",
       "[5 rows x 61 columns]"
      ]
     },
     "execution_count": 3,
     "metadata": {},
     "output_type": "execute_result"
    }
   ],
   "source": [
    "data.head()"
   ]
  },
  {
   "cell_type": "code",
   "execution_count": 4,
   "metadata": {},
   "outputs": [
    {
     "data": {
      "text/plain": [
       "(1000000, 61)"
      ]
     },
     "execution_count": 4,
     "metadata": {},
     "output_type": "execute_result"
    }
   ],
   "source": [
    "data.shape"
   ]
  },
  {
   "cell_type": "markdown",
   "metadata": {},
   "source": [
    "#### Removing the useless Columns"
   ]
  },
  {
   "cell_type": "code",
   "execution_count": 5,
   "metadata": {},
   "outputs": [],
   "source": [
    "data = data.set_index('Unnamed: 0')\n",
    "data.index.name = None"
   ]
  },
  {
   "cell_type": "code",
   "execution_count": 6,
   "metadata": {},
   "outputs": [],
   "source": [
    "data = data.drop(columns=['description', 'title'])\n",
    "data = data.drop(columns=['user_type', 'rent_to_single'])"
   ]
  },
  {
   "cell_type": "code",
   "execution_count": 7,
   "metadata": {},
   "outputs": [
    {
     "data": {
      "application/vnd.microsoft.datawrangler.viewer.v0+json": {
       "columns": [
        {
         "name": "index",
         "rawType": "int64",
         "type": "integer"
        },
        {
         "name": "cat2_slug",
         "rawType": "object",
         "type": "string"
        },
        {
         "name": "cat3_slug",
         "rawType": "object",
         "type": "string"
        },
        {
         "name": "city_slug",
         "rawType": "object",
         "type": "string"
        },
        {
         "name": "neighborhood_slug",
         "rawType": "object",
         "type": "string"
        },
        {
         "name": "created_at_month",
         "rawType": "object",
         "type": "string"
        },
        {
         "name": "rent_mode",
         "rawType": "object",
         "type": "unknown"
        },
        {
         "name": "rent_value",
         "rawType": "float64",
         "type": "float"
        },
        {
         "name": "rent_type",
         "rawType": "object",
         "type": "unknown"
        },
        {
         "name": "price_mode",
         "rawType": "object",
         "type": "unknown"
        },
        {
         "name": "price_value",
         "rawType": "float64",
         "type": "float"
        },
        {
         "name": "credit_mode",
         "rawType": "object",
         "type": "unknown"
        },
        {
         "name": "credit_value",
         "rawType": "float64",
         "type": "float"
        },
        {
         "name": "rent_credit_transform",
         "rawType": "object",
         "type": "unknown"
        },
        {
         "name": "transformable_price",
         "rawType": "object",
         "type": "unknown"
        },
        {
         "name": "transformable_credit",
         "rawType": "float64",
         "type": "float"
        },
        {
         "name": "transformed_credit",
         "rawType": "float64",
         "type": "float"
        },
        {
         "name": "transformable_rent",
         "rawType": "float64",
         "type": "float"
        },
        {
         "name": "transformed_rent",
         "rawType": "float64",
         "type": "float"
        },
        {
         "name": "land_size",
         "rawType": "float64",
         "type": "float"
        },
        {
         "name": "building_size",
         "rawType": "float64",
         "type": "float"
        },
        {
         "name": "deed_type",
         "rawType": "object",
         "type": "unknown"
        },
        {
         "name": "has_business_deed",
         "rawType": "object",
         "type": "unknown"
        },
        {
         "name": "floor",
         "rawType": "object",
         "type": "unknown"
        },
        {
         "name": "rooms_count",
         "rawType": "object",
         "type": "string"
        },
        {
         "name": "total_floors_count",
         "rawType": "object",
         "type": "unknown"
        },
        {
         "name": "unit_per_floor",
         "rawType": "object",
         "type": "unknown"
        },
        {
         "name": "has_balcony",
         "rawType": "object",
         "type": "unknown"
        },
        {
         "name": "has_elevator",
         "rawType": "object",
         "type": "unknown"
        },
        {
         "name": "has_warehouse",
         "rawType": "object",
         "type": "unknown"
        },
        {
         "name": "has_parking",
         "rawType": "object",
         "type": "unknown"
        },
        {
         "name": "construction_year",
         "rawType": "object",
         "type": "unknown"
        },
        {
         "name": "is_rebuilt",
         "rawType": "object",
         "type": "unknown"
        },
        {
         "name": "has_water",
         "rawType": "object",
         "type": "unknown"
        },
        {
         "name": "has_warm_water_provider",
         "rawType": "object",
         "type": "unknown"
        },
        {
         "name": "has_electricity",
         "rawType": "object",
         "type": "unknown"
        },
        {
         "name": "has_gas",
         "rawType": "object",
         "type": "unknown"
        },
        {
         "name": "has_heating_system",
         "rawType": "object",
         "type": "unknown"
        },
        {
         "name": "has_cooling_system",
         "rawType": "object",
         "type": "unknown"
        },
        {
         "name": "has_restroom",
         "rawType": "object",
         "type": "unknown"
        },
        {
         "name": "has_security_guard",
         "rawType": "object",
         "type": "unknown"
        },
        {
         "name": "has_barbecue",
         "rawType": "object",
         "type": "unknown"
        },
        {
         "name": "building_direction",
         "rawType": "object",
         "type": "unknown"
        },
        {
         "name": "has_pool",
         "rawType": "object",
         "type": "unknown"
        },
        {
         "name": "has_jacuzzi",
         "rawType": "object",
         "type": "unknown"
        },
        {
         "name": "has_sauna",
         "rawType": "object",
         "type": "unknown"
        },
        {
         "name": "floor_material",
         "rawType": "object",
         "type": "unknown"
        },
        {
         "name": "property_type",
         "rawType": "object",
         "type": "unknown"
        },
        {
         "name": "regular_person_capacity",
         "rawType": "float64",
         "type": "float"
        },
        {
         "name": "extra_person_capacity",
         "rawType": "object",
         "type": "unknown"
        },
        {
         "name": "cost_per_extra_person",
         "rawType": "float64",
         "type": "float"
        },
        {
         "name": "rent_price_on_regular_days",
         "rawType": "float64",
         "type": "float"
        },
        {
         "name": "rent_price_on_special_days",
         "rawType": "float64",
         "type": "float"
        },
        {
         "name": "rent_price_at_weekends",
         "rawType": "float64",
         "type": "float"
        },
        {
         "name": "location_latitude",
         "rawType": "float64",
         "type": "float"
        },
        {
         "name": "location_longitude",
         "rawType": "float64",
         "type": "float"
        },
        {
         "name": "location_radius",
         "rawType": "float64",
         "type": "float"
        }
       ],
       "ref": "795ea9bf-d91c-4e97-b6f3-b599bf4e2ed6",
       "rows": [
        [
         "0",
         "temporary-rent",
         "villa",
         "karaj",
         "mehrshahr",
         "2024-08-01 00:00:00",
         null,
         null,
         null,
         null,
         null,
         null,
         null,
         null,
         null,
         null,
         null,
         null,
         null,
         null,
         "500.0",
         null,
         null,
         null,
         "سه",
         null,
         null,
         null,
         null,
         null,
         null,
         null,
         null,
         null,
         null,
         null,
         null,
         null,
         null,
         null,
         null,
         null,
         null,
         null,
         null,
         null,
         null,
         null,
         "4.0",
         "6",
         "350000.0",
         "1500000.0",
         "3500000000.0",
         "3500000.0",
         "35.81168365478516",
         "50.93659973144531",
         "500.0"
        ],
        [
         "1",
         "residential-sell",
         "apartment-sell",
         "tehran",
         "gholhak",
         "2024-05-01 00:00:00",
         null,
         null,
         null,
         "مقطوع",
         "8500000000.0",
         null,
         null,
         null,
         null,
         null,
         null,
         null,
         null,
         null,
         "60.0",
         null,
         null,
         "3",
         "یک",
         null,
         null,
         null,
         "True",
         "True",
         "True",
         "۱۳۸۴",
         null,
         null,
         null,
         null,
         null,
         null,
         null,
         null,
         null,
         null,
         null,
         null,
         null,
         null,
         null,
         null,
         null,
         null,
         null,
         null,
         null,
         null,
         null,
         null,
         "500.0"
        ],
        [
         "2",
         "residential-rent",
         "apartment-rent",
         "tehran",
         "tohid",
         "2024-10-01 00:00:00",
         "مقطوع",
         "26000000.0",
         null,
         null,
         null,
         "مقطوع",
         "750000000.0",
         "False",
         "False",
         "750000000.0",
         null,
         "26000000.0",
         null,
         null,
         "132.0",
         null,
         null,
         "3",
         "سه",
         null,
         null,
         null,
         "True",
         "True",
         "True",
         "۱۴۰۱",
         "False",
         null,
         null,
         null,
         null,
         null,
         null,
         null,
         null,
         null,
         null,
         null,
         null,
         null,
         null,
         null,
         null,
         null,
         null,
         null,
         null,
         null,
         "35.70386505126953",
         "51.37345886230469",
         null
        ],
        [
         "3",
         "commercial-rent",
         "office-rent",
         "tehran",
         "elahiyeh",
         "2024-06-01 00:00:00",
         "مقطوع",
         "95000000.0",
         null,
         null,
         null,
         "مقطوع",
         "950000000.0",
         "False",
         "False",
         "950000000.0",
         null,
         "95000000.0",
         null,
         null,
         "90.0",
         null,
         null,
         "4",
         "یک",
         null,
         null,
         null,
         "True",
         "False",
         "True",
         "۱۴۰۰",
         null,
         null,
         null,
         null,
         null,
         null,
         null,
         null,
         null,
         null,
         null,
         null,
         null,
         null,
         null,
         null,
         null,
         null,
         null,
         null,
         null,
         null,
         null,
         null,
         null
        ],
        [
         "4",
         "residential-sell",
         "apartment-sell",
         "mashhad",
         "emamreza",
         "2024-05-01 00:00:00",
         null,
         null,
         null,
         "مقطوع",
         "5750000000.0",
         null,
         null,
         null,
         null,
         null,
         null,
         null,
         null,
         null,
         "115.0",
         "single_page",
         null,
         "4",
         "دو",
         "6",
         null,
         "true",
         "True",
         "True",
         "True",
         "۱۴۰۳",
         null,
         null,
         "package",
         null,
         null,
         "shoofaj",
         "air_conditioner",
         "squat_seat",
         null,
         null,
         "north",
         null,
         null,
         null,
         "ceramic",
         null,
         null,
         null,
         null,
         null,
         null,
         null,
         null,
         null,
         null
        ]
       ],
       "shape": {
        "columns": 56,
        "rows": 5
       }
      },
      "text/html": [
       "<div>\n",
       "<style scoped>\n",
       "    .dataframe tbody tr th:only-of-type {\n",
       "        vertical-align: middle;\n",
       "    }\n",
       "\n",
       "    .dataframe tbody tr th {\n",
       "        vertical-align: top;\n",
       "    }\n",
       "\n",
       "    .dataframe thead th {\n",
       "        text-align: right;\n",
       "    }\n",
       "</style>\n",
       "<table border=\"1\" class=\"dataframe\">\n",
       "  <thead>\n",
       "    <tr style=\"text-align: right;\">\n",
       "      <th></th>\n",
       "      <th>cat2_slug</th>\n",
       "      <th>cat3_slug</th>\n",
       "      <th>city_slug</th>\n",
       "      <th>neighborhood_slug</th>\n",
       "      <th>created_at_month</th>\n",
       "      <th>rent_mode</th>\n",
       "      <th>rent_value</th>\n",
       "      <th>rent_type</th>\n",
       "      <th>price_mode</th>\n",
       "      <th>price_value</th>\n",
       "      <th>...</th>\n",
       "      <th>property_type</th>\n",
       "      <th>regular_person_capacity</th>\n",
       "      <th>extra_person_capacity</th>\n",
       "      <th>cost_per_extra_person</th>\n",
       "      <th>rent_price_on_regular_days</th>\n",
       "      <th>rent_price_on_special_days</th>\n",
       "      <th>rent_price_at_weekends</th>\n",
       "      <th>location_latitude</th>\n",
       "      <th>location_longitude</th>\n",
       "      <th>location_radius</th>\n",
       "    </tr>\n",
       "  </thead>\n",
       "  <tbody>\n",
       "    <tr>\n",
       "      <th>0</th>\n",
       "      <td>temporary-rent</td>\n",
       "      <td>villa</td>\n",
       "      <td>karaj</td>\n",
       "      <td>mehrshahr</td>\n",
       "      <td>2024-08-01 00:00:00</td>\n",
       "      <td>NaN</td>\n",
       "      <td>NaN</td>\n",
       "      <td>NaN</td>\n",
       "      <td>NaN</td>\n",
       "      <td>NaN</td>\n",
       "      <td>...</td>\n",
       "      <td>NaN</td>\n",
       "      <td>4.0</td>\n",
       "      <td>6</td>\n",
       "      <td>350000.0</td>\n",
       "      <td>1500000.0</td>\n",
       "      <td>3.500000e+09</td>\n",
       "      <td>3500000.0</td>\n",
       "      <td>35.811684</td>\n",
       "      <td>50.936600</td>\n",
       "      <td>500.0</td>\n",
       "    </tr>\n",
       "    <tr>\n",
       "      <th>1</th>\n",
       "      <td>residential-sell</td>\n",
       "      <td>apartment-sell</td>\n",
       "      <td>tehran</td>\n",
       "      <td>gholhak</td>\n",
       "      <td>2024-05-01 00:00:00</td>\n",
       "      <td>NaN</td>\n",
       "      <td>NaN</td>\n",
       "      <td>NaN</td>\n",
       "      <td>مقطوع</td>\n",
       "      <td>8.500000e+09</td>\n",
       "      <td>...</td>\n",
       "      <td>NaN</td>\n",
       "      <td>NaN</td>\n",
       "      <td>NaN</td>\n",
       "      <td>NaN</td>\n",
       "      <td>NaN</td>\n",
       "      <td>NaN</td>\n",
       "      <td>NaN</td>\n",
       "      <td>NaN</td>\n",
       "      <td>NaN</td>\n",
       "      <td>500.0</td>\n",
       "    </tr>\n",
       "    <tr>\n",
       "      <th>2</th>\n",
       "      <td>residential-rent</td>\n",
       "      <td>apartment-rent</td>\n",
       "      <td>tehran</td>\n",
       "      <td>tohid</td>\n",
       "      <td>2024-10-01 00:00:00</td>\n",
       "      <td>مقطوع</td>\n",
       "      <td>26000000.0</td>\n",
       "      <td>NaN</td>\n",
       "      <td>NaN</td>\n",
       "      <td>NaN</td>\n",
       "      <td>...</td>\n",
       "      <td>NaN</td>\n",
       "      <td>NaN</td>\n",
       "      <td>NaN</td>\n",
       "      <td>NaN</td>\n",
       "      <td>NaN</td>\n",
       "      <td>NaN</td>\n",
       "      <td>NaN</td>\n",
       "      <td>35.703865</td>\n",
       "      <td>51.373459</td>\n",
       "      <td>NaN</td>\n",
       "    </tr>\n",
       "    <tr>\n",
       "      <th>3</th>\n",
       "      <td>commercial-rent</td>\n",
       "      <td>office-rent</td>\n",
       "      <td>tehran</td>\n",
       "      <td>elahiyeh</td>\n",
       "      <td>2024-06-01 00:00:00</td>\n",
       "      <td>مقطوع</td>\n",
       "      <td>95000000.0</td>\n",
       "      <td>NaN</td>\n",
       "      <td>NaN</td>\n",
       "      <td>NaN</td>\n",
       "      <td>...</td>\n",
       "      <td>NaN</td>\n",
       "      <td>NaN</td>\n",
       "      <td>NaN</td>\n",
       "      <td>NaN</td>\n",
       "      <td>NaN</td>\n",
       "      <td>NaN</td>\n",
       "      <td>NaN</td>\n",
       "      <td>NaN</td>\n",
       "      <td>NaN</td>\n",
       "      <td>NaN</td>\n",
       "    </tr>\n",
       "    <tr>\n",
       "      <th>4</th>\n",
       "      <td>residential-sell</td>\n",
       "      <td>apartment-sell</td>\n",
       "      <td>mashhad</td>\n",
       "      <td>emamreza</td>\n",
       "      <td>2024-05-01 00:00:00</td>\n",
       "      <td>NaN</td>\n",
       "      <td>NaN</td>\n",
       "      <td>NaN</td>\n",
       "      <td>مقطوع</td>\n",
       "      <td>5.750000e+09</td>\n",
       "      <td>...</td>\n",
       "      <td>NaN</td>\n",
       "      <td>NaN</td>\n",
       "      <td>NaN</td>\n",
       "      <td>NaN</td>\n",
       "      <td>NaN</td>\n",
       "      <td>NaN</td>\n",
       "      <td>NaN</td>\n",
       "      <td>NaN</td>\n",
       "      <td>NaN</td>\n",
       "      <td>NaN</td>\n",
       "    </tr>\n",
       "  </tbody>\n",
       "</table>\n",
       "<p>5 rows × 56 columns</p>\n",
       "</div>"
      ],
      "text/plain": [
       "          cat2_slug       cat3_slug city_slug neighborhood_slug  \\\n",
       "0    temporary-rent           villa     karaj         mehrshahr   \n",
       "1  residential-sell  apartment-sell    tehran           gholhak   \n",
       "2  residential-rent  apartment-rent    tehran             tohid   \n",
       "3   commercial-rent     office-rent    tehran          elahiyeh   \n",
       "4  residential-sell  apartment-sell   mashhad          emamreza   \n",
       "\n",
       "      created_at_month rent_mode  rent_value rent_type price_mode  \\\n",
       "0  2024-08-01 00:00:00       NaN         NaN       NaN        NaN   \n",
       "1  2024-05-01 00:00:00       NaN         NaN       NaN      مقطوع   \n",
       "2  2024-10-01 00:00:00     مقطوع  26000000.0       NaN        NaN   \n",
       "3  2024-06-01 00:00:00     مقطوع  95000000.0       NaN        NaN   \n",
       "4  2024-05-01 00:00:00       NaN         NaN       NaN      مقطوع   \n",
       "\n",
       "    price_value  ... property_type  regular_person_capacity  \\\n",
       "0           NaN  ...           NaN                      4.0   \n",
       "1  8.500000e+09  ...           NaN                      NaN   \n",
       "2           NaN  ...           NaN                      NaN   \n",
       "3           NaN  ...           NaN                      NaN   \n",
       "4  5.750000e+09  ...           NaN                      NaN   \n",
       "\n",
       "  extra_person_capacity cost_per_extra_person  rent_price_on_regular_days  \\\n",
       "0                     6              350000.0                   1500000.0   \n",
       "1                   NaN                   NaN                         NaN   \n",
       "2                   NaN                   NaN                         NaN   \n",
       "3                   NaN                   NaN                         NaN   \n",
       "4                   NaN                   NaN                         NaN   \n",
       "\n",
       "   rent_price_on_special_days  rent_price_at_weekends  location_latitude  \\\n",
       "0                3.500000e+09               3500000.0          35.811684   \n",
       "1                         NaN                     NaN                NaN   \n",
       "2                         NaN                     NaN          35.703865   \n",
       "3                         NaN                     NaN                NaN   \n",
       "4                         NaN                     NaN                NaN   \n",
       "\n",
       "   location_longitude  location_radius  \n",
       "0           50.936600            500.0  \n",
       "1                 NaN            500.0  \n",
       "2           51.373459              NaN  \n",
       "3                 NaN              NaN  \n",
       "4                 NaN              NaN  \n",
       "\n",
       "[5 rows x 56 columns]"
      ]
     },
     "execution_count": 7,
     "metadata": {},
     "output_type": "execute_result"
    }
   ],
   "source": [
    "data.head()"
   ]
  },
  {
   "cell_type": "markdown",
   "metadata": {},
   "source": [
    "#### Changing the Values of room_count column to be understandable"
   ]
  },
  {
   "cell_type": "code",
   "execution_count": 8,
   "metadata": {},
   "outputs": [
    {
     "name": "stderr",
     "output_type": "stream",
     "text": [
      "C:\\Users\\Abtin Rahbari\\AppData\\Local\\Temp\\ipykernel_2080\\2395350444.py:1: FutureWarning: Downcasting behavior in `replace` is deprecated and will be removed in a future version. To retain the old behavior, explicitly call `result.infer_objects(copy=False)`. To opt-in to the future behavior, set `pd.set_option('future.no_silent_downcasting', True)`\n",
      "  data['rooms_count'] = data['rooms_count'].replace({\n"
     ]
    }
   ],
   "source": [
    "data['rooms_count'] = data['rooms_count'].replace({\n",
    "    'بدون اتاق': 0,\n",
    "    'یک': 1,\n",
    "    'دو': 2,\n",
    "    'سه': 3,\n",
    "    'چهار': 4,\n",
    "    'پنج یا بیشتر': 5\n",
    "})"
   ]
  },
  {
   "cell_type": "markdown",
   "metadata": {},
   "source": [
    "#### Combining floor count and apt in floors for column reduction"
   ]
  },
  {
   "cell_type": "code",
   "execution_count": 9,
   "metadata": {},
   "outputs": [],
   "source": [
    "floors = data['total_floors_count']\n",
    "floors.fillna('0', inplace=True)\n",
    "#floors.unique()\n",
    "floors = floors.replace({\n",
    "    '30+': 31,\n",
    "    'unselect': 0   \n",
    "})\n",
    "floors = floors.astype('int16')\n",
    "\n",
    "upf = data['unit_per_floor']    #Units per Floor\n",
    "upf.fillna('0', inplace=True)\n",
    "#upf.unique()\n",
    "upf = upf.replace({\n",
    "    'more_than_8': 9,\n",
    "    'unselect': 0   \n",
    "})\n",
    "upf = upf.astype('int16')\n",
    "data['total_units'] = floors * upf"
   ]
  },
  {
   "cell_type": "code",
   "execution_count": 10,
   "metadata": {},
   "outputs": [
    {
     "data": {
      "application/vnd.microsoft.datawrangler.viewer.v0+json": {
       "columns": [
        {
         "name": "index",
         "rawType": "int64",
         "type": "integer"
        },
        {
         "name": "cat2_slug",
         "rawType": "object",
         "type": "string"
        },
        {
         "name": "cat3_slug",
         "rawType": "object",
         "type": "string"
        },
        {
         "name": "city_slug",
         "rawType": "object",
         "type": "string"
        },
        {
         "name": "neighborhood_slug",
         "rawType": "object",
         "type": "string"
        },
        {
         "name": "created_at_month",
         "rawType": "object",
         "type": "string"
        },
        {
         "name": "rent_mode",
         "rawType": "object",
         "type": "unknown"
        },
        {
         "name": "rent_value",
         "rawType": "float64",
         "type": "float"
        },
        {
         "name": "rent_type",
         "rawType": "object",
         "type": "unknown"
        },
        {
         "name": "price_mode",
         "rawType": "object",
         "type": "unknown"
        },
        {
         "name": "price_value",
         "rawType": "float64",
         "type": "float"
        },
        {
         "name": "credit_mode",
         "rawType": "object",
         "type": "unknown"
        },
        {
         "name": "credit_value",
         "rawType": "float64",
         "type": "float"
        },
        {
         "name": "rent_credit_transform",
         "rawType": "object",
         "type": "unknown"
        },
        {
         "name": "transformable_price",
         "rawType": "object",
         "type": "unknown"
        },
        {
         "name": "transformable_credit",
         "rawType": "float64",
         "type": "float"
        },
        {
         "name": "transformed_credit",
         "rawType": "float64",
         "type": "float"
        },
        {
         "name": "transformable_rent",
         "rawType": "float64",
         "type": "float"
        },
        {
         "name": "transformed_rent",
         "rawType": "float64",
         "type": "float"
        },
        {
         "name": "land_size",
         "rawType": "float64",
         "type": "float"
        },
        {
         "name": "building_size",
         "rawType": "float64",
         "type": "float"
        },
        {
         "name": "deed_type",
         "rawType": "object",
         "type": "unknown"
        },
        {
         "name": "has_business_deed",
         "rawType": "object",
         "type": "unknown"
        },
        {
         "name": "floor",
         "rawType": "object",
         "type": "unknown"
        },
        {
         "name": "rooms_count",
         "rawType": "float64",
         "type": "float"
        },
        {
         "name": "total_floors_count",
         "rawType": "object",
         "type": "string"
        },
        {
         "name": "unit_per_floor",
         "rawType": "object",
         "type": "string"
        },
        {
         "name": "has_balcony",
         "rawType": "object",
         "type": "unknown"
        },
        {
         "name": "has_elevator",
         "rawType": "object",
         "type": "unknown"
        },
        {
         "name": "has_warehouse",
         "rawType": "object",
         "type": "unknown"
        },
        {
         "name": "has_parking",
         "rawType": "object",
         "type": "unknown"
        },
        {
         "name": "construction_year",
         "rawType": "object",
         "type": "unknown"
        },
        {
         "name": "is_rebuilt",
         "rawType": "object",
         "type": "unknown"
        },
        {
         "name": "has_water",
         "rawType": "object",
         "type": "unknown"
        },
        {
         "name": "has_warm_water_provider",
         "rawType": "object",
         "type": "unknown"
        },
        {
         "name": "has_electricity",
         "rawType": "object",
         "type": "unknown"
        },
        {
         "name": "has_gas",
         "rawType": "object",
         "type": "unknown"
        },
        {
         "name": "has_heating_system",
         "rawType": "object",
         "type": "unknown"
        },
        {
         "name": "has_cooling_system",
         "rawType": "object",
         "type": "unknown"
        },
        {
         "name": "has_restroom",
         "rawType": "object",
         "type": "unknown"
        },
        {
         "name": "has_security_guard",
         "rawType": "object",
         "type": "unknown"
        },
        {
         "name": "has_barbecue",
         "rawType": "object",
         "type": "unknown"
        },
        {
         "name": "building_direction",
         "rawType": "object",
         "type": "unknown"
        },
        {
         "name": "has_pool",
         "rawType": "object",
         "type": "unknown"
        },
        {
         "name": "has_jacuzzi",
         "rawType": "object",
         "type": "unknown"
        },
        {
         "name": "has_sauna",
         "rawType": "object",
         "type": "unknown"
        },
        {
         "name": "floor_material",
         "rawType": "object",
         "type": "unknown"
        },
        {
         "name": "property_type",
         "rawType": "object",
         "type": "unknown"
        },
        {
         "name": "regular_person_capacity",
         "rawType": "float64",
         "type": "float"
        },
        {
         "name": "extra_person_capacity",
         "rawType": "object",
         "type": "unknown"
        },
        {
         "name": "cost_per_extra_person",
         "rawType": "float64",
         "type": "float"
        },
        {
         "name": "rent_price_on_regular_days",
         "rawType": "float64",
         "type": "float"
        },
        {
         "name": "rent_price_on_special_days",
         "rawType": "float64",
         "type": "float"
        },
        {
         "name": "rent_price_at_weekends",
         "rawType": "float64",
         "type": "float"
        },
        {
         "name": "location_latitude",
         "rawType": "float64",
         "type": "float"
        },
        {
         "name": "location_longitude",
         "rawType": "float64",
         "type": "float"
        },
        {
         "name": "location_radius",
         "rawType": "float64",
         "type": "float"
        },
        {
         "name": "total_units",
         "rawType": "int16",
         "type": "integer"
        }
       ],
       "ref": "45fcb163-9612-44a1-bb40-37365d466799",
       "rows": [
        [
         "0",
         "temporary-rent",
         "villa",
         "karaj",
         "mehrshahr",
         "2024-08-01 00:00:00",
         null,
         null,
         null,
         null,
         null,
         null,
         null,
         null,
         null,
         null,
         null,
         null,
         null,
         null,
         "500.0",
         null,
         null,
         null,
         "3.0",
         "0",
         "0",
         null,
         null,
         null,
         null,
         null,
         null,
         null,
         null,
         null,
         null,
         null,
         null,
         null,
         null,
         null,
         null,
         null,
         null,
         null,
         null,
         null,
         "4.0",
         "6",
         "350000.0",
         "1500000.0",
         "3500000000.0",
         "3500000.0",
         "35.81168365478516",
         "50.93659973144531",
         "500.0",
         "0"
        ],
        [
         "1",
         "residential-sell",
         "apartment-sell",
         "tehran",
         "gholhak",
         "2024-05-01 00:00:00",
         null,
         null,
         null,
         "مقطوع",
         "8500000000.0",
         null,
         null,
         null,
         null,
         null,
         null,
         null,
         null,
         null,
         "60.0",
         null,
         null,
         "3",
         "1.0",
         "0",
         "0",
         null,
         "True",
         "True",
         "True",
         "۱۳۸۴",
         null,
         null,
         null,
         null,
         null,
         null,
         null,
         null,
         null,
         null,
         null,
         null,
         null,
         null,
         null,
         null,
         null,
         null,
         null,
         null,
         null,
         null,
         null,
         null,
         "500.0",
         "0"
        ],
        [
         "2",
         "residential-rent",
         "apartment-rent",
         "tehran",
         "tohid",
         "2024-10-01 00:00:00",
         "مقطوع",
         "26000000.0",
         null,
         null,
         null,
         "مقطوع",
         "750000000.0",
         "False",
         "False",
         "750000000.0",
         null,
         "26000000.0",
         null,
         null,
         "132.0",
         null,
         null,
         "3",
         "3.0",
         "0",
         "0",
         null,
         "True",
         "True",
         "True",
         "۱۴۰۱",
         "False",
         null,
         null,
         null,
         null,
         null,
         null,
         null,
         null,
         null,
         null,
         null,
         null,
         null,
         null,
         null,
         null,
         null,
         null,
         null,
         null,
         null,
         "35.70386505126953",
         "51.37345886230469",
         null,
         "0"
        ],
        [
         "3",
         "commercial-rent",
         "office-rent",
         "tehran",
         "elahiyeh",
         "2024-06-01 00:00:00",
         "مقطوع",
         "95000000.0",
         null,
         null,
         null,
         "مقطوع",
         "950000000.0",
         "False",
         "False",
         "950000000.0",
         null,
         "95000000.0",
         null,
         null,
         "90.0",
         null,
         null,
         "4",
         "1.0",
         "0",
         "0",
         null,
         "True",
         "False",
         "True",
         "۱۴۰۰",
         null,
         null,
         null,
         null,
         null,
         null,
         null,
         null,
         null,
         null,
         null,
         null,
         null,
         null,
         null,
         null,
         null,
         null,
         null,
         null,
         null,
         null,
         null,
         null,
         null,
         "0"
        ],
        [
         "4",
         "residential-sell",
         "apartment-sell",
         "mashhad",
         "emamreza",
         "2024-05-01 00:00:00",
         null,
         null,
         null,
         "مقطوع",
         "5750000000.0",
         null,
         null,
         null,
         null,
         null,
         null,
         null,
         null,
         null,
         "115.0",
         "single_page",
         null,
         "4",
         "2.0",
         "6",
         "0",
         "true",
         "True",
         "True",
         "True",
         "۱۴۰۳",
         null,
         null,
         "package",
         null,
         null,
         "shoofaj",
         "air_conditioner",
         "squat_seat",
         null,
         null,
         "north",
         null,
         null,
         null,
         "ceramic",
         null,
         null,
         null,
         null,
         null,
         null,
         null,
         null,
         null,
         null,
         "0"
        ]
       ],
       "shape": {
        "columns": 57,
        "rows": 5
       }
      },
      "text/html": [
       "<div>\n",
       "<style scoped>\n",
       "    .dataframe tbody tr th:only-of-type {\n",
       "        vertical-align: middle;\n",
       "    }\n",
       "\n",
       "    .dataframe tbody tr th {\n",
       "        vertical-align: top;\n",
       "    }\n",
       "\n",
       "    .dataframe thead th {\n",
       "        text-align: right;\n",
       "    }\n",
       "</style>\n",
       "<table border=\"1\" class=\"dataframe\">\n",
       "  <thead>\n",
       "    <tr style=\"text-align: right;\">\n",
       "      <th></th>\n",
       "      <th>cat2_slug</th>\n",
       "      <th>cat3_slug</th>\n",
       "      <th>city_slug</th>\n",
       "      <th>neighborhood_slug</th>\n",
       "      <th>created_at_month</th>\n",
       "      <th>rent_mode</th>\n",
       "      <th>rent_value</th>\n",
       "      <th>rent_type</th>\n",
       "      <th>price_mode</th>\n",
       "      <th>price_value</th>\n",
       "      <th>...</th>\n",
       "      <th>regular_person_capacity</th>\n",
       "      <th>extra_person_capacity</th>\n",
       "      <th>cost_per_extra_person</th>\n",
       "      <th>rent_price_on_regular_days</th>\n",
       "      <th>rent_price_on_special_days</th>\n",
       "      <th>rent_price_at_weekends</th>\n",
       "      <th>location_latitude</th>\n",
       "      <th>location_longitude</th>\n",
       "      <th>location_radius</th>\n",
       "      <th>total_units</th>\n",
       "    </tr>\n",
       "  </thead>\n",
       "  <tbody>\n",
       "    <tr>\n",
       "      <th>0</th>\n",
       "      <td>temporary-rent</td>\n",
       "      <td>villa</td>\n",
       "      <td>karaj</td>\n",
       "      <td>mehrshahr</td>\n",
       "      <td>2024-08-01 00:00:00</td>\n",
       "      <td>NaN</td>\n",
       "      <td>NaN</td>\n",
       "      <td>NaN</td>\n",
       "      <td>NaN</td>\n",
       "      <td>NaN</td>\n",
       "      <td>...</td>\n",
       "      <td>4.0</td>\n",
       "      <td>6</td>\n",
       "      <td>350000.0</td>\n",
       "      <td>1500000.0</td>\n",
       "      <td>3.500000e+09</td>\n",
       "      <td>3500000.0</td>\n",
       "      <td>35.811684</td>\n",
       "      <td>50.936600</td>\n",
       "      <td>500.0</td>\n",
       "      <td>0</td>\n",
       "    </tr>\n",
       "    <tr>\n",
       "      <th>1</th>\n",
       "      <td>residential-sell</td>\n",
       "      <td>apartment-sell</td>\n",
       "      <td>tehran</td>\n",
       "      <td>gholhak</td>\n",
       "      <td>2024-05-01 00:00:00</td>\n",
       "      <td>NaN</td>\n",
       "      <td>NaN</td>\n",
       "      <td>NaN</td>\n",
       "      <td>مقطوع</td>\n",
       "      <td>8.500000e+09</td>\n",
       "      <td>...</td>\n",
       "      <td>NaN</td>\n",
       "      <td>NaN</td>\n",
       "      <td>NaN</td>\n",
       "      <td>NaN</td>\n",
       "      <td>NaN</td>\n",
       "      <td>NaN</td>\n",
       "      <td>NaN</td>\n",
       "      <td>NaN</td>\n",
       "      <td>500.0</td>\n",
       "      <td>0</td>\n",
       "    </tr>\n",
       "    <tr>\n",
       "      <th>2</th>\n",
       "      <td>residential-rent</td>\n",
       "      <td>apartment-rent</td>\n",
       "      <td>tehran</td>\n",
       "      <td>tohid</td>\n",
       "      <td>2024-10-01 00:00:00</td>\n",
       "      <td>مقطوع</td>\n",
       "      <td>26000000.0</td>\n",
       "      <td>NaN</td>\n",
       "      <td>NaN</td>\n",
       "      <td>NaN</td>\n",
       "      <td>...</td>\n",
       "      <td>NaN</td>\n",
       "      <td>NaN</td>\n",
       "      <td>NaN</td>\n",
       "      <td>NaN</td>\n",
       "      <td>NaN</td>\n",
       "      <td>NaN</td>\n",
       "      <td>35.703865</td>\n",
       "      <td>51.373459</td>\n",
       "      <td>NaN</td>\n",
       "      <td>0</td>\n",
       "    </tr>\n",
       "    <tr>\n",
       "      <th>3</th>\n",
       "      <td>commercial-rent</td>\n",
       "      <td>office-rent</td>\n",
       "      <td>tehran</td>\n",
       "      <td>elahiyeh</td>\n",
       "      <td>2024-06-01 00:00:00</td>\n",
       "      <td>مقطوع</td>\n",
       "      <td>95000000.0</td>\n",
       "      <td>NaN</td>\n",
       "      <td>NaN</td>\n",
       "      <td>NaN</td>\n",
       "      <td>...</td>\n",
       "      <td>NaN</td>\n",
       "      <td>NaN</td>\n",
       "      <td>NaN</td>\n",
       "      <td>NaN</td>\n",
       "      <td>NaN</td>\n",
       "      <td>NaN</td>\n",
       "      <td>NaN</td>\n",
       "      <td>NaN</td>\n",
       "      <td>NaN</td>\n",
       "      <td>0</td>\n",
       "    </tr>\n",
       "    <tr>\n",
       "      <th>4</th>\n",
       "      <td>residential-sell</td>\n",
       "      <td>apartment-sell</td>\n",
       "      <td>mashhad</td>\n",
       "      <td>emamreza</td>\n",
       "      <td>2024-05-01 00:00:00</td>\n",
       "      <td>NaN</td>\n",
       "      <td>NaN</td>\n",
       "      <td>NaN</td>\n",
       "      <td>مقطوع</td>\n",
       "      <td>5.750000e+09</td>\n",
       "      <td>...</td>\n",
       "      <td>NaN</td>\n",
       "      <td>NaN</td>\n",
       "      <td>NaN</td>\n",
       "      <td>NaN</td>\n",
       "      <td>NaN</td>\n",
       "      <td>NaN</td>\n",
       "      <td>NaN</td>\n",
       "      <td>NaN</td>\n",
       "      <td>NaN</td>\n",
       "      <td>0</td>\n",
       "    </tr>\n",
       "  </tbody>\n",
       "</table>\n",
       "<p>5 rows × 57 columns</p>\n",
       "</div>"
      ],
      "text/plain": [
       "          cat2_slug       cat3_slug city_slug neighborhood_slug  \\\n",
       "0    temporary-rent           villa     karaj         mehrshahr   \n",
       "1  residential-sell  apartment-sell    tehran           gholhak   \n",
       "2  residential-rent  apartment-rent    tehran             tohid   \n",
       "3   commercial-rent     office-rent    tehran          elahiyeh   \n",
       "4  residential-sell  apartment-sell   mashhad          emamreza   \n",
       "\n",
       "      created_at_month rent_mode  rent_value rent_type price_mode  \\\n",
       "0  2024-08-01 00:00:00       NaN         NaN       NaN        NaN   \n",
       "1  2024-05-01 00:00:00       NaN         NaN       NaN      مقطوع   \n",
       "2  2024-10-01 00:00:00     مقطوع  26000000.0       NaN        NaN   \n",
       "3  2024-06-01 00:00:00     مقطوع  95000000.0       NaN        NaN   \n",
       "4  2024-05-01 00:00:00       NaN         NaN       NaN      مقطوع   \n",
       "\n",
       "    price_value  ... regular_person_capacity  extra_person_capacity  \\\n",
       "0           NaN  ...                     4.0                      6   \n",
       "1  8.500000e+09  ...                     NaN                    NaN   \n",
       "2           NaN  ...                     NaN                    NaN   \n",
       "3           NaN  ...                     NaN                    NaN   \n",
       "4  5.750000e+09  ...                     NaN                    NaN   \n",
       "\n",
       "  cost_per_extra_person rent_price_on_regular_days  \\\n",
       "0              350000.0                  1500000.0   \n",
       "1                   NaN                        NaN   \n",
       "2                   NaN                        NaN   \n",
       "3                   NaN                        NaN   \n",
       "4                   NaN                        NaN   \n",
       "\n",
       "   rent_price_on_special_days  rent_price_at_weekends  location_latitude  \\\n",
       "0                3.500000e+09               3500000.0          35.811684   \n",
       "1                         NaN                     NaN                NaN   \n",
       "2                         NaN                     NaN          35.703865   \n",
       "3                         NaN                     NaN                NaN   \n",
       "4                         NaN                     NaN                NaN   \n",
       "\n",
       "   location_longitude  location_radius  total_units  \n",
       "0           50.936600            500.0            0  \n",
       "1                 NaN            500.0            0  \n",
       "2           51.373459              NaN            0  \n",
       "3                 NaN              NaN            0  \n",
       "4                 NaN              NaN            0  \n",
       "\n",
       "[5 rows x 57 columns]"
      ]
     },
     "execution_count": 10,
     "metadata": {},
     "output_type": "execute_result"
    }
   ],
   "source": [
    "data.head()"
   ]
  },
  {
   "cell_type": "markdown",
   "metadata": {},
   "source": [
    "#### Filling the water, gas, electricity, balcony, elevator, warehouse and parking columns"
   ]
  },
  {
   "cell_type": "code",
   "execution_count": 11,
   "metadata": {},
   "outputs": [
    {
     "name": "stderr",
     "output_type": "stream",
     "text": [
      "C:\\Users\\Abtin Rahbari\\AppData\\Local\\Temp\\ipykernel_2080\\1899736385.py:8: FutureWarning: Downcasting object dtype arrays on .fillna, .ffill, .bfill is deprecated and will change in a future version. Call result.infer_objects(copy=False) instead. To opt-in to the future behavior, set `pd.set_option('future.no_silent_downcasting', True)`\n",
      "  data.has_balcony = data.has_balcony.fillna(False)\n",
      "C:\\Users\\Abtin Rahbari\\AppData\\Local\\Temp\\ipykernel_2080\\1899736385.py:11: FutureWarning: Downcasting object dtype arrays on .fillna, .ffill, .bfill is deprecated and will change in a future version. Call result.infer_objects(copy=False) instead. To opt-in to the future behavior, set `pd.set_option('future.no_silent_downcasting', True)`\n",
      "  data.has_elevator = data.has_elevator.fillna(False)\n",
      "C:\\Users\\Abtin Rahbari\\AppData\\Local\\Temp\\ipykernel_2080\\1899736385.py:14: FutureWarning: Downcasting object dtype arrays on .fillna, .ffill, .bfill is deprecated and will change in a future version. Call result.infer_objects(copy=False) instead. To opt-in to the future behavior, set `pd.set_option('future.no_silent_downcasting', True)`\n",
      "  data.has_warehouse = data.has_warehouse.fillna(False)\n",
      "C:\\Users\\Abtin Rahbari\\AppData\\Local\\Temp\\ipykernel_2080\\1899736385.py:17: FutureWarning: Downcasting object dtype arrays on .fillna, .ffill, .bfill is deprecated and will change in a future version. Call result.infer_objects(copy=False) instead. To opt-in to the future behavior, set `pd.set_option('future.no_silent_downcasting', True)`\n",
      "  data.has_parking = data.has_parking.fillna(True)\n",
      "C:\\Users\\Abtin Rahbari\\AppData\\Local\\Temp\\ipykernel_2080\\1899736385.py:20: FutureWarning: Downcasting object dtype arrays on .fillna, .ffill, .bfill is deprecated and will change in a future version. Call result.infer_objects(copy=False) instead. To opt-in to the future behavior, set `pd.set_option('future.no_silent_downcasting', True)`\n",
      "  data.is_rebuilt = data.is_rebuilt.fillna(False)\n",
      "C:\\Users\\Abtin Rahbari\\AppData\\Local\\Temp\\ipykernel_2080\\1899736385.py:23: FutureWarning: Downcasting object dtype arrays on .fillna, .ffill, .bfill is deprecated and will change in a future version. Call result.infer_objects(copy=False) instead. To opt-in to the future behavior, set `pd.set_option('future.no_silent_downcasting', True)`\n",
      "  data.has_water = data.has_water.fillna(True)\n",
      "C:\\Users\\Abtin Rahbari\\AppData\\Local\\Temp\\ipykernel_2080\\1899736385.py:24: FutureWarning: Downcasting object dtype arrays on .fillna, .ffill, .bfill is deprecated and will change in a future version. Call result.infer_objects(copy=False) instead. To opt-in to the future behavior, set `pd.set_option('future.no_silent_downcasting', True)`\n",
      "  data.has_gas = data.has_gas.fillna(True)\n",
      "C:\\Users\\Abtin Rahbari\\AppData\\Local\\Temp\\ipykernel_2080\\1899736385.py:25: FutureWarning: Downcasting object dtype arrays on .fillna, .ffill, .bfill is deprecated and will change in a future version. Call result.infer_objects(copy=False) instead. To opt-in to the future behavior, set `pd.set_option('future.no_silent_downcasting', True)`\n",
      "  data.has_electricity = data.has_electricity.fillna(True)\n",
      "C:\\Users\\Abtin Rahbari\\AppData\\Local\\Temp\\ipykernel_2080\\1899736385.py:31: FutureWarning: Downcasting object dtype arrays on .fillna, .ffill, .bfill is deprecated and will change in a future version. Call result.infer_objects(copy=False) instead. To opt-in to the future behavior, set `pd.set_option('future.no_silent_downcasting', True)`\n",
      "  data.has_jacuzzi = data.has_jacuzzi.fillna(False)\n",
      "C:\\Users\\Abtin Rahbari\\AppData\\Local\\Temp\\ipykernel_2080\\1899736385.py:32: FutureWarning: Downcasting object dtype arrays on .fillna, .ffill, .bfill is deprecated and will change in a future version. Call result.infer_objects(copy=False) instead. To opt-in to the future behavior, set `pd.set_option('future.no_silent_downcasting', True)`\n",
      "  data.has_sauna = data.has_sauna.fillna(False)\n",
      "C:\\Users\\Abtin Rahbari\\AppData\\Local\\Temp\\ipykernel_2080\\1899736385.py:33: FutureWarning: Downcasting object dtype arrays on .fillna, .ffill, .bfill is deprecated and will change in a future version. Call result.infer_objects(copy=False) instead. To opt-in to the future behavior, set `pd.set_option('future.no_silent_downcasting', True)`\n",
      "  data.has_pool = data.has_pool.fillna(False)\n",
      "C:\\Users\\Abtin Rahbari\\AppData\\Local\\Temp\\ipykernel_2080\\1899736385.py:34: FutureWarning: Downcasting object dtype arrays on .fillna, .ffill, .bfill is deprecated and will change in a future version. Call result.infer_objects(copy=False) instead. To opt-in to the future behavior, set `pd.set_option('future.no_silent_downcasting', True)`\n",
      "  data.has_barbecue = data.has_barbecue.fillna(False)\n",
      "C:\\Users\\Abtin Rahbari\\AppData\\Local\\Temp\\ipykernel_2080\\1899736385.py:43: FutureWarning: Downcasting object dtype arrays on .fillna, .ffill, .bfill is deprecated and will change in a future version. Call result.infer_objects(copy=False) instead. To opt-in to the future behavior, set `pd.set_option('future.no_silent_downcasting', True)`\n",
      "  data.has_business_deed = data.has_business_deed.fillna(False)\n",
      "C:\\Users\\Abtin Rahbari\\AppData\\Local\\Temp\\ipykernel_2080\\1899736385.py:60: FutureWarning: Downcasting behavior in `replace` is deprecated and will be removed in a future version. To retain the old behavior, explicitly call `result.infer_objects(copy=False)`. To opt-in to the future behavior, set `pd.set_option('future.no_silent_downcasting', True)`\n",
      "  data.construction_year = data.construction_year.replace(['۱۳۹۵', '۱۳۹۶', '۱۳۹۷', '۱۳۹۸', '۱۳۹۹', '۱۴۰۰', '۱۴۰۱', '۱۴۰۲', '۱۴۰۳'], 1400)\n"
     ]
    }
   ],
   "source": [
    "# Correcting the has_balcony column\n",
    "data.has_balcony = data.has_balcony.replace({\n",
    "    'true' : True,\n",
    "    'false' : False, \n",
    "    'unselect': np.nan\n",
    "})\n",
    "# If they had, they would have mentioned as a plus point. So we count false as default\n",
    "data.has_balcony = data.has_balcony.fillna(False)\n",
    "\n",
    "# If they had, they would have said as a plus point. So we count false as default\n",
    "data.has_elevator = data.has_elevator.fillna(False)\n",
    "\n",
    "# If they had, they would have said as a plus point. So we count false as default\n",
    "data.has_warehouse = data.has_warehouse.fillna(False)\n",
    "\n",
    "# Since it was demanded for every house to have at least one parking, default is set to true\n",
    "data.has_parking = data.has_parking.fillna(True) \n",
    "\n",
    "# Since renovation counts as a good point, not mentioning it would count as False\n",
    "data.is_rebuilt = data.is_rebuilt.fillna(False)\n",
    "\n",
    "# it is not rational that the house wasn't mentioned that it doesn't have water, gas or electricity. So we count True as default\n",
    "data.has_water = data.has_water.fillna(True)\n",
    "data.has_gas = data.has_gas.fillna(True)\n",
    "data.has_electricity = data.has_electricity.fillna(True)\n",
    "\n",
    "# Since we are in Iran, we could assume any house has a single squat toilette :)\n",
    "data.has_restroom = data.has_restroom.fillna('squat')\n",
    "\n",
    "# We can mix the pool, jacuzzi and sauna and design a luxury column or even an luxury index. The missing values of the columns would be considered zero as default\n",
    "data.has_jacuzzi = data.has_jacuzzi.fillna(False)\n",
    "data.has_sauna = data.has_sauna.fillna(False)\n",
    "data.has_pool = data.has_pool.fillna(False)\n",
    "data.has_barbecue = data.has_barbecue.fillna(False)\n",
    "data['luxury_index'] = data['has_pool'].astype('int') + data['has_sauna'].astype('int') + data['has_jacuzzi'].astype('int') + data['has_barbecue'].astype('int')\n",
    "\n",
    "# Also shoofaj, water_cooler and package can be assumed as the default parameters for heating and cooling systems and warm water system relatively because it is most used (in more than have of the available data)\n",
    "data.has_cooling_system = data.has_cooling_system.fillna('water_cooler')\n",
    "data.has_heating_system = data.has_heating_system.fillna('shoofaj')\n",
    "data.has_warm_water_provider = data.has_warm_water_provider.fillna('package')\n",
    "\n",
    "# Most of our data is Residential so they won't have business deed by defaut\n",
    "data.has_business_deed = data.has_business_deed.fillna(False)\n",
    "\n",
    "# Most transactions only use single_page deed so we can set it as a default parameter\n",
    "data.deed_type = data.deed_type.fillna('single_page')\n",
    "\n",
    "# I assumed the 30+ floor as 31 and fill the NaN with mean+floor of the available floors\n",
    "data.floor = data.floor.replace('30+', 31)\n",
    "data.floor = pd.to_numeric(data.floor, errors='coerce')\n",
    "data.floor = data.floor.fillna(np.floor(np.nanmean(data.floor)))\n",
    "\n",
    "# Doing the same with room_count\n",
    "data.rooms_count = data.rooms_count.fillna(np.floor(np.nanmean(data.rooms_count)))\n",
    "\n",
    "# Binning and reforming the year column\n",
    "data.construction_year = data.construction_year.replace(['قبل از ۱۳۷۰', '۱۳۷۱', '۱۳۷۲', '۱۳۷۳', '۱۳۷۴'], 1370)\n",
    "data.construction_year = data.construction_year.replace(['۱۳۷۵', '۱۳۷۶', '۱۳۷۷', '۱۳۷۸', '۱۳۷۹', '۱۳۸۰', '۱۳۸۱', '۱۳۸۲', '۱۳۸۳', '۱۳۸۴'], 1380)\n",
    "data.construction_year = data.construction_year.replace(['۱۳۸۵', '۱۳۸۶', '۱۳۸۷', '۱۳۸۸', '۱۳۸۹', '۱۳۹۰', '۱۳۹۱', '۱۳۹۲', '۱۳۹۳', '۱۳۹۴'], 1390)\n",
    "data.construction_year = data.construction_year.replace(['۱۳۹۵', '۱۳۹۶', '۱۳۹۷', '۱۳۹۸', '۱۳۹۹', '۱۴۰۰', '۱۴۰۱', '۱۴۰۲', '۱۴۰۳'], 1400)"
   ]
  },
  {
   "cell_type": "markdown",
   "metadata": {},
   "source": [
    "#### Deleting the unused and logically not important columns"
   ]
  },
  {
   "cell_type": "code",
   "execution_count": 12,
   "metadata": {},
   "outputs": [],
   "source": [
    "data = data.drop(columns=['unit_per_floor', 'total_floors_count', 'floor_material', 'created_at_month'])\n",
    "# The security guard, barbeque column has 97 percent missing value so we can safely remove them\n",
    "data = data.drop(columns=['has_security_guard', 'property_type'])\n",
    "# Engineered a new feature so we can delete these three columns\n",
    "data = data.drop(columns=['has_jacuzzi', 'has_sauna', 'has_pool', 'has_barbecue'])"
   ]
  },
  {
   "cell_type": "markdown",
   "metadata": {},
   "source": [
    "#### Trying the location algorithms"
   ]
  },
  {
   "cell_type": "code",
   "execution_count": 13,
   "metadata": {},
   "outputs": [],
   "source": [
    "# Extracting all Location datas into another dataset\n",
    "loc_data= data[['city_slug', 'neighborhood_slug', 'location_latitude', 'location_longitude']]"
   ]
  },
  {
   "cell_type": "code",
   "execution_count": 14,
   "metadata": {},
   "outputs": [
    {
     "name": "stdout",
     "output_type": "stream",
     "text": [
      "<class 'pandas.core.frame.DataFrame'>\n",
      "Index: 1000000 entries, 0 to 999999\n",
      "Data columns (total 4 columns):\n",
      " #   Column              Non-Null Count   Dtype  \n",
      "---  ------              --------------   -----  \n",
      " 0   city_slug           999998 non-null  object \n",
      " 1   neighborhood_slug   437139 non-null  object \n",
      " 2   location_latitude   655608 non-null  float64\n",
      " 3   location_longitude  655608 non-null  float64\n",
      "dtypes: float64(2), object(2)\n",
      "memory usage: 38.1+ MB\n"
     ]
    }
   ],
   "source": [
    "loc_data.info()"
   ]
  },
  {
   "cell_type": "code",
   "execution_count": 15,
   "metadata": {},
   "outputs": [],
   "source": [
    "# Filtering the Data *with* lat and long\n",
    "df = loc_data[loc_data['location_latitude'].notnull() & loc_data['location_longitude'].notnull()].copy()\n",
    "\n",
    "# Separate rows with and without neighborhood labels\n",
    "df_known_neigh = df[df['neighborhood_slug'].notnull()]\n",
    "df_missing_neigh = df[df['neighborhood_slug'].isnull()]\n",
    "\n",
    "# Train a KNN classifier using lat and long as features\n",
    "knn = KNeighborsClassifier(n_neighbors=5)\n",
    "knn.fit(df_known_neigh[['location_latitude', 'location_longitude']], df_known_neigh['neighborhood_slug'])\n",
    "\n",
    "# Predict and fill the missing neighborhood values\n",
    "predicted = knn.predict(df_missing_neigh[['location_latitude', 'location_longitude']])\n",
    "\n",
    "# Putting it back into loc_data\n",
    "loc_data.loc[df_missing_neigh.index, 'neighborhood_slug'] = predicted"
   ]
  },
  {
   "cell_type": "code",
   "execution_count": 16,
   "metadata": {},
   "outputs": [
    {
     "name": "stdout",
     "output_type": "stream",
     "text": [
      "<class 'pandas.core.frame.DataFrame'>\n",
      "Index: 1000000 entries, 0 to 999999\n",
      "Data columns (total 4 columns):\n",
      " #   Column              Non-Null Count   Dtype  \n",
      "---  ------              --------------   -----  \n",
      " 0   city_slug           999998 non-null  object \n",
      " 1   neighborhood_slug   800249 non-null  object \n",
      " 2   location_latitude   655608 non-null  float64\n",
      " 3   location_longitude  655608 non-null  float64\n",
      "dtypes: float64(2), object(2)\n",
      "memory usage: 70.4+ MB\n"
     ]
    }
   ],
   "source": [
    "loc_data.info()"
   ]
  },
  {
   "cell_type": "code",
   "execution_count": 17,
   "metadata": {},
   "outputs": [
    {
     "name": "stderr",
     "output_type": "stream",
     "text": [
      "C:\\Users\\Abtin Rahbari\\AppData\\Local\\Temp\\ipykernel_2080\\2499323512.py:9: SettingWithCopyWarning: \n",
      "A value is trying to be set on a copy of a slice from a DataFrame.\n",
      "Try using .loc[row_indexer,col_indexer] = value instead\n",
      "\n",
      "See the caveats in the documentation: https://pandas.pydata.org/pandas-docs/stable/user_guide/indexing.html#returning-a-view-versus-a-copy\n",
      "  loc_data['neighborhood_slug'] = loc_data.groupby('city_slug')['neighborhood_slug'].transform(fill_with_frequent)\n"
     ]
    }
   ],
   "source": [
    "# Designing a function to fill the neighborhood column for rows that only have city data by replacing the NaN data with most frequent neighborhood\n",
    "def fill_with_frequent(group):\n",
    "    if group.mode().empty:\n",
    "        # Doing this to check if we have some cities that do not have any neighborhoods\n",
    "        return\n",
    "    else:\n",
    "        return group.fillna(group.mode().iloc[0])\n",
    "\n",
    "loc_data['neighborhood_slug'] = loc_data.groupby('city_slug')['neighborhood_slug'].transform(fill_with_frequent)"
   ]
  },
  {
   "cell_type": "code",
   "execution_count": 18,
   "metadata": {},
   "outputs": [
    {
     "data": {
      "application/vnd.microsoft.datawrangler.viewer.v0+json": {
       "columns": [
        {
         "name": "index",
         "rawType": "int64",
         "type": "integer"
        },
        {
         "name": "city_slug",
         "rawType": "object",
         "type": "unknown"
        },
        {
         "name": "neighborhood_slug",
         "rawType": "object",
         "type": "unknown"
        },
        {
         "name": "location_latitude",
         "rawType": "float64",
         "type": "float"
        },
        {
         "name": "location_longitude",
         "rawType": "float64",
         "type": "float"
        }
       ],
       "ref": "925ea261-d3a1-4b66-abff-5a9da237ff51",
       "rows": [
        [
         "292674",
         null,
         null,
         null,
         null
        ],
        [
         "676502",
         null,
         null,
         null,
         null
        ]
       ],
       "shape": {
        "columns": 4,
        "rows": 2
       }
      },
      "text/html": [
       "<div>\n",
       "<style scoped>\n",
       "    .dataframe tbody tr th:only-of-type {\n",
       "        vertical-align: middle;\n",
       "    }\n",
       "\n",
       "    .dataframe tbody tr th {\n",
       "        vertical-align: top;\n",
       "    }\n",
       "\n",
       "    .dataframe thead th {\n",
       "        text-align: right;\n",
       "    }\n",
       "</style>\n",
       "<table border=\"1\" class=\"dataframe\">\n",
       "  <thead>\n",
       "    <tr style=\"text-align: right;\">\n",
       "      <th></th>\n",
       "      <th>city_slug</th>\n",
       "      <th>neighborhood_slug</th>\n",
       "      <th>location_latitude</th>\n",
       "      <th>location_longitude</th>\n",
       "    </tr>\n",
       "  </thead>\n",
       "  <tbody>\n",
       "    <tr>\n",
       "      <th>292674</th>\n",
       "      <td>NaN</td>\n",
       "      <td>NaN</td>\n",
       "      <td>NaN</td>\n",
       "      <td>NaN</td>\n",
       "    </tr>\n",
       "    <tr>\n",
       "      <th>676502</th>\n",
       "      <td>NaN</td>\n",
       "      <td>NaN</td>\n",
       "      <td>NaN</td>\n",
       "      <td>NaN</td>\n",
       "    </tr>\n",
       "  </tbody>\n",
       "</table>\n",
       "</div>"
      ],
      "text/plain": [
       "       city_slug neighborhood_slug  location_latitude  location_longitude\n",
       "292674       NaN               NaN                NaN                 NaN\n",
       "676502       NaN               NaN                NaN                 NaN"
      ]
     },
     "execution_count": 18,
     "metadata": {},
     "output_type": "execute_result"
    }
   ],
   "source": [
    "loc_data[loc_data['city_slug'].isna()]"
   ]
  },
  {
   "cell_type": "markdown",
   "metadata": {},
   "source": [
    "This data has no location Data therefore can't be used in the secondary part of the question. Because of that we delete it"
   ]
  },
  {
   "cell_type": "code",
   "execution_count": 19,
   "metadata": {},
   "outputs": [
    {
     "name": "stdout",
     "output_type": "stream",
     "text": [
      "<class 'pandas.core.frame.DataFrame'>\n",
      "Index: 999998 entries, 0 to 999999\n",
      "Data columns (total 4 columns):\n",
      " #   Column              Non-Null Count   Dtype  \n",
      "---  ------              --------------   -----  \n",
      " 0   city_slug           999998 non-null  object \n",
      " 1   neighborhood_slug   999998 non-null  object \n",
      " 2   location_latitude   655608 non-null  float64\n",
      " 3   location_longitude  655608 non-null  float64\n",
      "dtypes: float64(2), object(2)\n",
      "memory usage: 38.1+ MB\n"
     ]
    }
   ],
   "source": [
    "data = data.drop(loc_data[loc_data['city_slug'].isna()].index)\n",
    "loc_data = loc_data.drop(loc_data[loc_data['city_slug'].isna()].index)\n",
    "loc_data.info()"
   ]
  },
  {
   "cell_type": "markdown",
   "metadata": {},
   "source": [
    "### Now we fill the lat and long data based on City and Neighborhoods"
   ]
  },
  {
   "cell_type": "code",
   "execution_count": 20,
   "metadata": {},
   "outputs": [],
   "source": [
    "# Calculating the center of each neighborhood for lat and long filling \n",
    "centroids = loc_data.groupby(['city_slug', 'neighborhood_slug']).agg({\n",
    "    'location_latitude': 'mean',\n",
    "    'location_longitude': 'mean'\n",
    "}).reset_index()\n",
    "\n",
    "# Now we merge the centres with main data\n",
    "full_loc = pd.merge(loc_data, centroids, on=['city_slug', 'neighborhood_slug'], how='left', suffixes=('', '_centers'))\n",
    "full_loc['location_latitude'] = full_loc['location_latitude'].fillna(full_loc['location_latitude_centers'])\n",
    "full_loc['location_longitude'] = full_loc['location_longitude'].fillna(full_loc['location_longitude_centers'])"
   ]
  },
  {
   "cell_type": "code",
   "execution_count": 21,
   "metadata": {},
   "outputs": [
    {
     "name": "stdout",
     "output_type": "stream",
     "text": [
      "<class 'pandas.core.frame.DataFrame'>\n",
      "RangeIndex: 999998 entries, 0 to 999997\n",
      "Data columns (total 4 columns):\n",
      " #   Column              Non-Null Count   Dtype  \n",
      "---  ------              --------------   -----  \n",
      " 0   city_slug           999998 non-null  object \n",
      " 1   neighborhood_slug   999998 non-null  object \n",
      " 2   location_latitude   999994 non-null  float64\n",
      " 3   location_longitude  999994 non-null  float64\n",
      "dtypes: float64(2), object(2)\n",
      "memory usage: 30.5+ MB\n"
     ]
    }
   ],
   "source": [
    "full_loc = full_loc.drop(columns=['location_latitude_centers', 'location_longitude_centers'])\n",
    "full_loc.info()"
   ]
  },
  {
   "cell_type": "code",
   "execution_count": 22,
   "metadata": {},
   "outputs": [],
   "source": [
    "# We still have two neighborhoods that have no location data. Because the count is so little (4 samples) we can delete them\n",
    "full_loc = full_loc.drop(full_loc[full_loc['location_latitude'].isna()].index)\n",
    "data = data.drop(full_loc[full_loc['location_latitude'].isna()].index)"
   ]
  },
  {
   "cell_type": "markdown",
   "metadata": {},
   "source": [
    "#### Now that we now that the algorithm works, we execute it on the main dataset"
   ]
  },
  {
   "cell_type": "code",
   "execution_count": null,
   "metadata": {},
   "outputs": [],
   "source": [
    "# # Designing a function to fill the neighborhood column for rows that only have city data by replacing the NaN data with most frequent neighborhood\n",
    "# def fill_with_frequent(group):\n",
    "#     if group.mode().empty:\n",
    "#         # Doing this to check if we have some cities that do not have any neighborhoods\n",
    "#         return\n",
    "#     else:\n",
    "#         return group.fillna(group.mode().iloc[0])\n",
    "\n",
    "# # Filtering the Data *with* lat and long\n",
    "# df = data[data['location_latitude'].notnull() & data['location_longitude'].notnull()].copy()\n",
    "\n",
    "# # Separate rows with and without neighborhood labels\n",
    "# df_known_neigh = df[df['neighborhood_slug'].notnull()]\n",
    "# df_missing_neigh = df[df['neighborhood_slug'].isnull()]\n",
    "\n",
    "# # Train a KNN classifier using lat and long as features\n",
    "# knn = KNeighborsClassifier(n_neighbors=5)\n",
    "# knn.fit(df_known_neigh[['location_latitude', 'location_longitude']], df_known_neigh['neighborhood_slug'])\n",
    "\n",
    "# # Predict and fill the missing neighborhood values\n",
    "# predicted = knn.predict(df_missing_neigh[['location_latitude', 'location_longitude']])\n",
    "\n",
    "# # Putting it back into loc_data\n",
    "# data.loc[df_missing_neigh.index, 'neighborhood_slug'] = predicted\n",
    "\n",
    "# data['neighborhood_slug'] = data.groupby('city_slug')['neighborhood_slug'].transform(fill_with_frequent)\n",
    "# data = data.drop(data[data['city_slug'].isna()].index)      # Getting rid of data with no location\n",
    "\n",
    "# # Calculating the center of each neighborhood for lat and long filling \n",
    "# centers = data.groupby(['city_slug', 'neighborhood_slug']).agg({\n",
    "#     'location_latitude': 'mean',\n",
    "#     'location_longitude': 'mean'\n",
    "# }).reset_index()\n",
    "\n",
    "# # Now we merge the centres with main data\n",
    "# data = pd.merge(data, centers, on=['city_slug', 'neighborhood_slug'], how='left', suffixes=('', '_centers'))\n",
    "# data['location_latitude'] = data['location_latitude'].fillna(data['location_latitude_centers'])\n",
    "# data['location_longitude'] = data['location_longitude'].fillna(data['location_longitude_centers'])\n",
    "\n",
    "# data = data.drop(columns=['location_latitude_centers', 'location_longitude_centers'])\n",
    "# data = data.drop(data[data['location_latitude'].isna()].index)"
   ]
  },
  {
   "cell_type": "markdown",
   "metadata": {},
   "source": [
    "### Trying Kmeans"
   ]
  },
  {
   "cell_type": "code",
   "execution_count": null,
   "metadata": {},
   "outputs": [
    {
     "ename": "ValueError",
     "evalue": "Input X contains NaN.\nKMeans does not accept missing values encoded as NaN natively. For supervised learning, you might want to consider sklearn.ensemble.HistGradientBoostingClassifier and Regressor which accept missing values encoded as NaNs natively. Alternatively, it is possible to preprocess the data, for instance by using an imputer transformer in a pipeline or drop samples with missing values. See https://scikit-learn.org/stable/modules/impute.html You can find a list of all estimators that handle NaN values at the following page: https://scikit-learn.org/stable/modules/impute.html#estimators-that-handle-nan-values",
     "output_type": "error",
     "traceback": [
      "\u001b[31m---------------------------------------------------------------------------\u001b[39m",
      "\u001b[31mValueError\u001b[39m                                Traceback (most recent call last)",
      "\u001b[36mCell\u001b[39m\u001b[36m \u001b[39m\u001b[32mIn[102]\u001b[39m\u001b[32m, line 2\u001b[39m\n\u001b[32m      1\u001b[39m kmean = KMeans(\u001b[32m10\u001b[39m, random_state=\u001b[32m42\u001b[39m)\n\u001b[32m----> \u001b[39m\u001b[32m2\u001b[39m clusters = \u001b[43mkmean\u001b[49m\u001b[43m.\u001b[49m\u001b[43mfit_predict\u001b[49m\u001b[43m(\u001b[49m\u001b[43mdata3\u001b[49m\u001b[43m)\u001b[49m\n",
      "\u001b[36mFile \u001b[39m\u001b[32m~\\AppData\\Local\\Packages\\PythonSoftwareFoundation.Python.3.12_qbz5n2kfra8p0\\LocalCache\\local-packages\\Python312\\site-packages\\sklearn\\cluster\\_kmeans.py:1070\u001b[39m, in \u001b[36m_BaseKMeans.fit_predict\u001b[39m\u001b[34m(self, X, y, sample_weight)\u001b[39m\n\u001b[32m   1047\u001b[39m \u001b[38;5;28;01mdef\u001b[39;00m \u001b[34mfit_predict\u001b[39m(\u001b[38;5;28mself\u001b[39m, X, y=\u001b[38;5;28;01mNone\u001b[39;00m, sample_weight=\u001b[38;5;28;01mNone\u001b[39;00m):\n\u001b[32m   1048\u001b[39m \u001b[38;5;250m    \u001b[39m\u001b[33;03m\"\"\"Compute cluster centers and predict cluster index for each sample.\u001b[39;00m\n\u001b[32m   1049\u001b[39m \n\u001b[32m   1050\u001b[39m \u001b[33;03m    Convenience method; equivalent to calling fit(X) followed by\u001b[39;00m\n\u001b[32m   (...)\u001b[39m\u001b[32m   1068\u001b[39m \u001b[33;03m        Index of the cluster each sample belongs to.\u001b[39;00m\n\u001b[32m   1069\u001b[39m \u001b[33;03m    \"\"\"\u001b[39;00m\n\u001b[32m-> \u001b[39m\u001b[32m1070\u001b[39m     \u001b[38;5;28;01mreturn\u001b[39;00m \u001b[38;5;28;43mself\u001b[39;49m\u001b[43m.\u001b[49m\u001b[43mfit\u001b[49m\u001b[43m(\u001b[49m\u001b[43mX\u001b[49m\u001b[43m,\u001b[49m\u001b[43m \u001b[49m\u001b[43msample_weight\u001b[49m\u001b[43m=\u001b[49m\u001b[43msample_weight\u001b[49m\u001b[43m)\u001b[49m.labels_\n",
      "\u001b[36mFile \u001b[39m\u001b[32m~\\AppData\\Local\\Packages\\PythonSoftwareFoundation.Python.3.12_qbz5n2kfra8p0\\LocalCache\\local-packages\\Python312\\site-packages\\sklearn\\base.py:1473\u001b[39m, in \u001b[36m_fit_context.<locals>.decorator.<locals>.wrapper\u001b[39m\u001b[34m(estimator, *args, **kwargs)\u001b[39m\n\u001b[32m   1466\u001b[39m     estimator._validate_params()\n\u001b[32m   1468\u001b[39m \u001b[38;5;28;01mwith\u001b[39;00m config_context(\n\u001b[32m   1469\u001b[39m     skip_parameter_validation=(\n\u001b[32m   1470\u001b[39m         prefer_skip_nested_validation \u001b[38;5;129;01mor\u001b[39;00m global_skip_validation\n\u001b[32m   1471\u001b[39m     )\n\u001b[32m   1472\u001b[39m ):\n\u001b[32m-> \u001b[39m\u001b[32m1473\u001b[39m     \u001b[38;5;28;01mreturn\u001b[39;00m \u001b[43mfit_method\u001b[49m\u001b[43m(\u001b[49m\u001b[43mestimator\u001b[49m\u001b[43m,\u001b[49m\u001b[43m \u001b[49m\u001b[43m*\u001b[49m\u001b[43margs\u001b[49m\u001b[43m,\u001b[49m\u001b[43m \u001b[49m\u001b[43m*\u001b[49m\u001b[43m*\u001b[49m\u001b[43mkwargs\u001b[49m\u001b[43m)\u001b[49m\n",
      "\u001b[36mFile \u001b[39m\u001b[32m~\\AppData\\Local\\Packages\\PythonSoftwareFoundation.Python.3.12_qbz5n2kfra8p0\\LocalCache\\local-packages\\Python312\\site-packages\\sklearn\\cluster\\_kmeans.py:1464\u001b[39m, in \u001b[36mKMeans.fit\u001b[39m\u001b[34m(self, X, y, sample_weight)\u001b[39m\n\u001b[32m   1436\u001b[39m \u001b[38;5;129m@_fit_context\u001b[39m(prefer_skip_nested_validation=\u001b[38;5;28;01mTrue\u001b[39;00m)\n\u001b[32m   1437\u001b[39m \u001b[38;5;28;01mdef\u001b[39;00m \u001b[34mfit\u001b[39m(\u001b[38;5;28mself\u001b[39m, X, y=\u001b[38;5;28;01mNone\u001b[39;00m, sample_weight=\u001b[38;5;28;01mNone\u001b[39;00m):\n\u001b[32m   1438\u001b[39m \u001b[38;5;250m    \u001b[39m\u001b[33;03m\"\"\"Compute k-means clustering.\u001b[39;00m\n\u001b[32m   1439\u001b[39m \n\u001b[32m   1440\u001b[39m \u001b[33;03m    Parameters\u001b[39;00m\n\u001b[32m   (...)\u001b[39m\u001b[32m   1462\u001b[39m \u001b[33;03m        Fitted estimator.\u001b[39;00m\n\u001b[32m   1463\u001b[39m \u001b[33;03m    \"\"\"\u001b[39;00m\n\u001b[32m-> \u001b[39m\u001b[32m1464\u001b[39m     X = \u001b[38;5;28;43mself\u001b[39;49m\u001b[43m.\u001b[49m\u001b[43m_validate_data\u001b[49m\u001b[43m(\u001b[49m\n\u001b[32m   1465\u001b[39m \u001b[43m        \u001b[49m\u001b[43mX\u001b[49m\u001b[43m,\u001b[49m\n\u001b[32m   1466\u001b[39m \u001b[43m        \u001b[49m\u001b[43maccept_sparse\u001b[49m\u001b[43m=\u001b[49m\u001b[33;43m\"\u001b[39;49m\u001b[33;43mcsr\u001b[39;49m\u001b[33;43m\"\u001b[39;49m\u001b[43m,\u001b[49m\n\u001b[32m   1467\u001b[39m \u001b[43m        \u001b[49m\u001b[43mdtype\u001b[49m\u001b[43m=\u001b[49m\u001b[43m[\u001b[49m\u001b[43mnp\u001b[49m\u001b[43m.\u001b[49m\u001b[43mfloat64\u001b[49m\u001b[43m,\u001b[49m\u001b[43m \u001b[49m\u001b[43mnp\u001b[49m\u001b[43m.\u001b[49m\u001b[43mfloat32\u001b[49m\u001b[43m]\u001b[49m\u001b[43m,\u001b[49m\n\u001b[32m   1468\u001b[39m \u001b[43m        \u001b[49m\u001b[43morder\u001b[49m\u001b[43m=\u001b[49m\u001b[33;43m\"\u001b[39;49m\u001b[33;43mC\u001b[39;49m\u001b[33;43m\"\u001b[39;49m\u001b[43m,\u001b[49m\n\u001b[32m   1469\u001b[39m \u001b[43m        \u001b[49m\u001b[43mcopy\u001b[49m\u001b[43m=\u001b[49m\u001b[38;5;28;43mself\u001b[39;49m\u001b[43m.\u001b[49m\u001b[43mcopy_x\u001b[49m\u001b[43m,\u001b[49m\n\u001b[32m   1470\u001b[39m \u001b[43m        \u001b[49m\u001b[43maccept_large_sparse\u001b[49m\u001b[43m=\u001b[49m\u001b[38;5;28;43;01mFalse\u001b[39;49;00m\u001b[43m,\u001b[49m\n\u001b[32m   1471\u001b[39m \u001b[43m    \u001b[49m\u001b[43m)\u001b[49m\n\u001b[32m   1473\u001b[39m     \u001b[38;5;28mself\u001b[39m._check_params_vs_input(X)\n\u001b[32m   1475\u001b[39m     random_state = check_random_state(\u001b[38;5;28mself\u001b[39m.random_state)\n",
      "\u001b[36mFile \u001b[39m\u001b[32m~\\AppData\\Local\\Packages\\PythonSoftwareFoundation.Python.3.12_qbz5n2kfra8p0\\LocalCache\\local-packages\\Python312\\site-packages\\sklearn\\base.py:633\u001b[39m, in \u001b[36mBaseEstimator._validate_data\u001b[39m\u001b[34m(self, X, y, reset, validate_separately, cast_to_ndarray, **check_params)\u001b[39m\n\u001b[32m    631\u001b[39m         out = X, y\n\u001b[32m    632\u001b[39m \u001b[38;5;28;01melif\u001b[39;00m \u001b[38;5;129;01mnot\u001b[39;00m no_val_X \u001b[38;5;129;01mand\u001b[39;00m no_val_y:\n\u001b[32m--> \u001b[39m\u001b[32m633\u001b[39m     out = \u001b[43mcheck_array\u001b[49m\u001b[43m(\u001b[49m\u001b[43mX\u001b[49m\u001b[43m,\u001b[49m\u001b[43m \u001b[49m\u001b[43minput_name\u001b[49m\u001b[43m=\u001b[49m\u001b[33;43m\"\u001b[39;49m\u001b[33;43mX\u001b[39;49m\u001b[33;43m\"\u001b[39;49m\u001b[43m,\u001b[49m\u001b[43m \u001b[49m\u001b[43m*\u001b[49m\u001b[43m*\u001b[49m\u001b[43mcheck_params\u001b[49m\u001b[43m)\u001b[49m\n\u001b[32m    634\u001b[39m \u001b[38;5;28;01melif\u001b[39;00m no_val_X \u001b[38;5;129;01mand\u001b[39;00m \u001b[38;5;129;01mnot\u001b[39;00m no_val_y:\n\u001b[32m    635\u001b[39m     out = _check_y(y, **check_params)\n",
      "\u001b[36mFile \u001b[39m\u001b[32m~\\AppData\\Local\\Packages\\PythonSoftwareFoundation.Python.3.12_qbz5n2kfra8p0\\LocalCache\\local-packages\\Python312\\site-packages\\sklearn\\utils\\validation.py:1064\u001b[39m, in \u001b[36mcheck_array\u001b[39m\u001b[34m(array, accept_sparse, accept_large_sparse, dtype, order, copy, force_writeable, force_all_finite, ensure_2d, allow_nd, ensure_min_samples, ensure_min_features, estimator, input_name)\u001b[39m\n\u001b[32m   1058\u001b[39m     \u001b[38;5;28;01mraise\u001b[39;00m \u001b[38;5;167;01mValueError\u001b[39;00m(\n\u001b[32m   1059\u001b[39m         \u001b[33m\"\u001b[39m\u001b[33mFound array with dim \u001b[39m\u001b[38;5;132;01m%d\u001b[39;00m\u001b[33m. \u001b[39m\u001b[38;5;132;01m%s\u001b[39;00m\u001b[33m expected <= 2.\u001b[39m\u001b[33m\"\u001b[39m\n\u001b[32m   1060\u001b[39m         % (array.ndim, estimator_name)\n\u001b[32m   1061\u001b[39m     )\n\u001b[32m   1063\u001b[39m \u001b[38;5;28;01mif\u001b[39;00m force_all_finite:\n\u001b[32m-> \u001b[39m\u001b[32m1064\u001b[39m     \u001b[43m_assert_all_finite\u001b[49m\u001b[43m(\u001b[49m\n\u001b[32m   1065\u001b[39m \u001b[43m        \u001b[49m\u001b[43marray\u001b[49m\u001b[43m,\u001b[49m\n\u001b[32m   1066\u001b[39m \u001b[43m        \u001b[49m\u001b[43minput_name\u001b[49m\u001b[43m=\u001b[49m\u001b[43minput_name\u001b[49m\u001b[43m,\u001b[49m\n\u001b[32m   1067\u001b[39m \u001b[43m        \u001b[49m\u001b[43mestimator_name\u001b[49m\u001b[43m=\u001b[49m\u001b[43mestimator_name\u001b[49m\u001b[43m,\u001b[49m\n\u001b[32m   1068\u001b[39m \u001b[43m        \u001b[49m\u001b[43mallow_nan\u001b[49m\u001b[43m=\u001b[49m\u001b[43mforce_all_finite\u001b[49m\u001b[43m \u001b[49m\u001b[43m==\u001b[49m\u001b[43m \u001b[49m\u001b[33;43m\"\u001b[39;49m\u001b[33;43mallow-nan\u001b[39;49m\u001b[33;43m\"\u001b[39;49m\u001b[43m,\u001b[49m\n\u001b[32m   1069\u001b[39m \u001b[43m    \u001b[49m\u001b[43m)\u001b[49m\n\u001b[32m   1071\u001b[39m \u001b[38;5;28;01mif\u001b[39;00m copy:\n\u001b[32m   1072\u001b[39m     \u001b[38;5;28;01mif\u001b[39;00m _is_numpy_namespace(xp):\n\u001b[32m   1073\u001b[39m         \u001b[38;5;66;03m# only make a copy if `array` and `array_orig` may share memory`\u001b[39;00m\n",
      "\u001b[36mFile \u001b[39m\u001b[32m~\\AppData\\Local\\Packages\\PythonSoftwareFoundation.Python.3.12_qbz5n2kfra8p0\\LocalCache\\local-packages\\Python312\\site-packages\\sklearn\\utils\\validation.py:123\u001b[39m, in \u001b[36m_assert_all_finite\u001b[39m\u001b[34m(X, allow_nan, msg_dtype, estimator_name, input_name)\u001b[39m\n\u001b[32m    120\u001b[39m \u001b[38;5;28;01mif\u001b[39;00m first_pass_isfinite:\n\u001b[32m    121\u001b[39m     \u001b[38;5;28;01mreturn\u001b[39;00m\n\u001b[32m--> \u001b[39m\u001b[32m123\u001b[39m \u001b[43m_assert_all_finite_element_wise\u001b[49m\u001b[43m(\u001b[49m\n\u001b[32m    124\u001b[39m \u001b[43m    \u001b[49m\u001b[43mX\u001b[49m\u001b[43m,\u001b[49m\n\u001b[32m    125\u001b[39m \u001b[43m    \u001b[49m\u001b[43mxp\u001b[49m\u001b[43m=\u001b[49m\u001b[43mxp\u001b[49m\u001b[43m,\u001b[49m\n\u001b[32m    126\u001b[39m \u001b[43m    \u001b[49m\u001b[43mallow_nan\u001b[49m\u001b[43m=\u001b[49m\u001b[43mallow_nan\u001b[49m\u001b[43m,\u001b[49m\n\u001b[32m    127\u001b[39m \u001b[43m    \u001b[49m\u001b[43mmsg_dtype\u001b[49m\u001b[43m=\u001b[49m\u001b[43mmsg_dtype\u001b[49m\u001b[43m,\u001b[49m\n\u001b[32m    128\u001b[39m \u001b[43m    \u001b[49m\u001b[43mestimator_name\u001b[49m\u001b[43m=\u001b[49m\u001b[43mestimator_name\u001b[49m\u001b[43m,\u001b[49m\n\u001b[32m    129\u001b[39m \u001b[43m    \u001b[49m\u001b[43minput_name\u001b[49m\u001b[43m=\u001b[49m\u001b[43minput_name\u001b[49m\u001b[43m,\u001b[49m\n\u001b[32m    130\u001b[39m \u001b[43m\u001b[49m\u001b[43m)\u001b[49m\n",
      "\u001b[36mFile \u001b[39m\u001b[32m~\\AppData\\Local\\Packages\\PythonSoftwareFoundation.Python.3.12_qbz5n2kfra8p0\\LocalCache\\local-packages\\Python312\\site-packages\\sklearn\\utils\\validation.py:172\u001b[39m, in \u001b[36m_assert_all_finite_element_wise\u001b[39m\u001b[34m(X, xp, allow_nan, msg_dtype, estimator_name, input_name)\u001b[39m\n\u001b[32m    155\u001b[39m \u001b[38;5;28;01mif\u001b[39;00m estimator_name \u001b[38;5;129;01mand\u001b[39;00m input_name == \u001b[33m\"\u001b[39m\u001b[33mX\u001b[39m\u001b[33m\"\u001b[39m \u001b[38;5;129;01mand\u001b[39;00m has_nan_error:\n\u001b[32m    156\u001b[39m     \u001b[38;5;66;03m# Improve the error message on how to handle missing values in\u001b[39;00m\n\u001b[32m    157\u001b[39m     \u001b[38;5;66;03m# scikit-learn.\u001b[39;00m\n\u001b[32m    158\u001b[39m     msg_err += (\n\u001b[32m    159\u001b[39m         \u001b[33mf\u001b[39m\u001b[33m\"\u001b[39m\u001b[38;5;130;01m\\n\u001b[39;00m\u001b[38;5;132;01m{\u001b[39;00mestimator_name\u001b[38;5;132;01m}\u001b[39;00m\u001b[33m does not accept missing values\u001b[39m\u001b[33m\"\u001b[39m\n\u001b[32m    160\u001b[39m         \u001b[33m\"\u001b[39m\u001b[33m encoded as NaN natively. For supervised learning, you might want\u001b[39m\u001b[33m\"\u001b[39m\n\u001b[32m   (...)\u001b[39m\u001b[32m    170\u001b[39m         \u001b[33m\"\u001b[39m\u001b[33m#estimators-that-handle-nan-values\u001b[39m\u001b[33m\"\u001b[39m\n\u001b[32m    171\u001b[39m     )\n\u001b[32m--> \u001b[39m\u001b[32m172\u001b[39m \u001b[38;5;28;01mraise\u001b[39;00m \u001b[38;5;167;01mValueError\u001b[39;00m(msg_err)\n",
      "\u001b[31mValueError\u001b[39m: Input X contains NaN.\nKMeans does not accept missing values encoded as NaN natively. For supervised learning, you might want to consider sklearn.ensemble.HistGradientBoostingClassifier and Regressor which accept missing values encoded as NaNs natively. Alternatively, it is possible to preprocess the data, for instance by using an imputer transformer in a pipeline or drop samples with missing values. See https://scikit-learn.org/stable/modules/impute.html You can find a list of all estimators that handle NaN values at the following page: https://scikit-learn.org/stable/modules/impute.html#estimators-that-handle-nan-values"
     ]
    }
   ],
   "source": [
    "kmean = KMeans(10, random_state=42)\n",
    "clusters = kmean.fit_predict(data)"
   ]
  }
 ],
 "metadata": {
  "kernelspec": {
   "display_name": "Python 3",
   "language": "python",
   "name": "python3"
  },
  "language_info": {
   "codemirror_mode": {
    "name": "ipython",
    "version": 3
   },
   "file_extension": ".py",
   "mimetype": "text/x-python",
   "name": "python",
   "nbconvert_exporter": "python",
   "pygments_lexer": "ipython3",
   "version": "3.12.10"
  }
 },
 "nbformat": 4,
 "nbformat_minor": 2
}
