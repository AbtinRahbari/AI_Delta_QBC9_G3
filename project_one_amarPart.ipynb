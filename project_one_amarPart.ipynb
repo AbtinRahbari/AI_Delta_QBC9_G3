{
  "cells": [
    {
      "cell_type": "code",
      "execution_count": null,
      "metadata": {
        "id": "uDdNNZatflWc"
      },
      "outputs": [],
      "source": [
        "!gdown 1dilkpbKOLgFHMxVZLR8CJkRNeN7bS4EB #Download_part"
      ]
    },
    {
      "cell_type": "code",
      "execution_count": null,
      "metadata": {
        "id": "_G-THNWQthuk"
      },
      "outputs": [],
      "source": [
        "#Adding libraries\n",
        "!pip install folium\n",
        "!pip install jdatetime"
      ]
    },
    {
      "cell_type": "code",
      "execution_count": null,
      "metadata": {
        "id": "CMohAQ-9Q2X6"
      },
      "outputs": [],
      "source": [
        "#IMPORTS_PART\n",
        "\n",
        "import pandas as pd\n",
        "import numpy as np\n",
        "import matplotlib.pyplot as plt\n",
        "import seaborn as sns\n",
        "import folium\n",
        "from folium.plugins import HeatMap\n",
        "from jdatetime import datetime as jdatetime\n",
        "import datetime\n"
      ]
    },
    {
      "cell_type": "code",
      "execution_count": null,
      "metadata": {
        "id": "pWoyvmWsfpBw"
      },
      "outputs": [],
      "source": [
        "Divar_data = pd.read_csv(\"/content/Divar.csv\")\n"
      ]
    },
    {
      "cell_type": "markdown",
      "source": [
        "توزیع آگهی‌های موجود در دسته‌های مختلف را برای دسته‌بندی سطح دو و سطح سه رسم کنید."
      ],
      "metadata": {
        "id": "n59SeSjCzmmO"
      }
    },
    {
      "cell_type": "code",
      "execution_count": null,
      "metadata": {
        "collapsed": true,
        "id": "aRdaLT9RiqqJ"
      },
      "outputs": [],
      "source": [
        "chosen1 = Divar_data[[\"cat2_slug\"]]\n",
        "\n",
        "chosen1_value_counts = chosen1.value_counts()\n",
        "chosen1_value_counts"
      ]
    },
    {
      "cell_type": "code",
      "execution_count": null,
      "metadata": {
        "collapsed": true,
        "id": "BvCcOjPBnZXk"
      },
      "outputs": [],
      "source": [
        "chosen1_value_counts.plot(kind = 'pie')"
      ]
    },
    {
      "cell_type": "code",
      "execution_count": null,
      "metadata": {
        "collapsed": true,
        "id": "pNu2CTBQ6TSR"
      },
      "outputs": [],
      "source": [
        "chosen2 = Divar_data[[\"cat3_slug\"]]\n",
        "\n",
        "chosen2_value_counts = chosen2.value_counts()\n",
        "\n",
        "chosen2_value_counts.plot.bar(x = 'lables', y = 'count')"
      ]
    },
    {
      "cell_type": "markdown",
      "source": [
        "هیستوگرام سال ساخت را رسم کنید."
      ],
      "metadata": {
        "id": "myEDRPTKztqw"
      }
    },
    {
      "cell_type": "code",
      "execution_count": null,
      "metadata": {
        "id": "Ku4VNzuurAsE"
      },
      "outputs": [],
      "source": [
        "def timestamptomonth(series):\n",
        "    l_ist = []\n",
        "    for item in series:\n",
        "        l_ist.append(item.month_name())\n",
        "    return pd.Series(l_ist)\n",
        "\n",
        "def timestamptoyear(dataframe):\n",
        "    l_ist = []\n",
        "    for item in dataframe:\n",
        "        l_ist.append(item.year)\n",
        "    return pd.Series(l_ist)\n",
        "\n"
      ]
    },
    {
      "cell_type": "code",
      "execution_count": null,
      "metadata": {
        "collapsed": true,
        "id": "0Rg9f8UchnbZ"
      },
      "outputs": [],
      "source": [
        "time = pd.to_datetime(Divar_data[\"created_at_month\"])\n",
        "timestmap = timestamptomonth(time)\n",
        "year = timestamptoyear(time)\n",
        "yeardistro = pd.DataFrame({'years': [2024,2023,2025,2022,2021,2020], 'counts': year.value_counts()})\n",
        "plt.figure(figsize=(10, 6))\n",
        "sns.histplot(year, bins=10,kde=True, color='skyblue', edgecolor='black')\n",
        "\n",
        "plt.title('tozie sal sakht', fontsize=14)\n",
        "plt.xlabel('salsakht', fontsize=12)\n",
        "plt.ylabel( 'tedadmelk', fontsize=12)\n",
        "plt.grid(True, linestyle='--', alpha=0.5)\n",
        "plt.xticks(sorted(year.unique()))\n",
        "\n",
        "\n",
        "plt.tight_layout()\n",
        "plt.show()"
      ]
    },
    {
      "cell_type": "markdown",
      "source": [
        "تعداد آگهی‌های منتشر شده در ماه‌های مختلف را برای فروش و اجاره بررسی کنید. آیا تعداد آگهی‌های فروش و اجاره در زمان‌های مشخصی از سال افزایش چشم‌گیری داشته است؟"
      ],
      "metadata": {
        "id": "UIqZbsa7z0Xq"
      }
    },
    {
      "cell_type": "code",
      "execution_count": null,
      "metadata": {
        "collapsed": true,
        "id": "_XS61KKAWTui"
      },
      "outputs": [],
      "source": [
        "timestmap.value_counts().plot.bar()\n"
      ]
    },
    {
      "cell_type": "markdown",
      "source": [
        "بر روی نقشه‌ی جغرافیایی heatmap آگهی‌های هر منطقه را رسم کنید. تراکم آگهی‌ها کدام منطقه بیشتر است؟\n"
      ],
      "metadata": {
        "id": "wpe562Wj0CVG"
      }
    },
    {
      "cell_type": "code",
      "execution_count": null,
      "metadata": {
        "collapsed": true,
        "id": "s9M0woUCy44w"
      },
      "outputs": [],
      "source": [
        "location_info = Divar_data[['location_latitude','location_longitude','location_radius']]\n",
        "location_info.dropna(inplace=True)\n",
        "location_info = location_info[['location_latitude','location_longitude']].value_counts()\n",
        "\n",
        "\n",
        "tehran_map = folium.Map(location =[35.6892, 51.3890],zoom_start=13 )\n",
        "loc = location_info.index.to_frame()\n",
        "locc = pd.DataFrame({'location_latitude':loc[\"location_latitude\"],'location_longitude':loc[\"location_longitude\"],'count':location_info})\n",
        "tehran_map = folium.Map(location =[35.6892, 51.3890],zoom_start=13 )\n",
        "HeatMap(data=locc, radius=15, max_zoom=13).add_to(tehran_map)\n",
        "tehran_map"
      ]
    },
    {
      "cell_type": "markdown",
      "source": [
        "توزیع قیمت فروش‌(price_value) را برای دسته‌بندی‌های سطح سه در یک نمودار رسم کنید."
      ],
      "metadata": {
        "id": "ZXaqHCV7z9IY"
      }
    },
    {
      "cell_type": "code",
      "execution_count": null,
      "metadata": {
        "collapsed": true,
        "id": "Kq8ZzeBKZQZu"
      },
      "outputs": [],
      "source": [
        "ejare_mah = pd.DataFrame({\"Category\":Divar_data['cat3_slug'],\"Price\":Divar_data['price_value']})\n",
        "\n",
        "\n",
        "\n",
        "\n",
        "plt.figure(figsize=(20, 6))\n",
        "sns.boxplot(x='Category', y='Price', data=ejare_mah, palette='Set2')\n",
        "\n",
        "\n",
        "plt.title('tojie qheymat dastebandi_3', fontsize=14)\n",
        "plt.xlabel('dastebandi_3', fontsize=12)\n",
        "plt.ylabel('qhymat', fontsize=12)\n",
        "plt.xticks(rotation=45)\n",
        "plt.grid(True, linestyle='--', alpha=1)\n",
        "\n",
        "\n",
        "plt.tight_layout()\n",
        "plt.show()\n",
        "\n",
        "\n"
      ]
    },
    {
      "cell_type": "markdown",
      "source": [
        "ترند میانگین قیمت اجاره بر حسب ماه‌های قرار گرفتن آگهی‌ها رسم کنید.(دقت کنید که ماه‌ها باید به تاریخ شمسی و خوانا باشند.)"
      ],
      "metadata": {
        "id": "bY7We1V80N25"
      }
    },
    {
      "cell_type": "code",
      "execution_count": null,
      "metadata": {
        "id": "NlvAM0CVFgNG"
      },
      "outputs": [],
      "source": [
        "def to_shamsi(x):\n",
        "    date = jdatetime.fromgregorian(datetime = x)\n",
        "    date = (2022,date.month,1)\n",
        "    return pd.Timestamp(year=date[0],month=date[1],day=date[2])"
      ]
    },
    {
      "cell_type": "code",
      "execution_count": null,
      "metadata": {
        "id": "L8a36cal753R"
      },
      "outputs": [],
      "source": [
        "#month_of_set = pd.DatetimeIndex(pd.to_datetime(pd.to_datetime(Divar_data['created_at_month']).map(lambda x : str(jdatetime.fromgregorian(datetime = x)))))\n",
        "#month_of_set = pd.Series(data = Divar_data['rent_value'].copy().values , index = month_of_set)\n",
        "pd_datetime = pd.Series(pd.to_datetime(Divar_data['created_at_month']).map(lambda x : to_shamsi(x)))\n"
      ]
    },
    {
      "cell_type": "code",
      "execution_count": null,
      "metadata": {
        "collapsed": true,
        "id": "gw0mcSMpCBfd"
      },
      "outputs": [],
      "source": [
        "pd_datetime"
      ]
    },
    {
      "cell_type": "code",
      "execution_count": null,
      "metadata": {
        "id": "lFYYUlzJZ7ly"
      },
      "outputs": [],
      "source": [
        "month_of_set = pd.DatetimeIndex(pd.to_datetime(pd_datetime))\n",
        "month_of_set = pd.Series(data = Divar_data['rent_value'].values , index = month_of_set)\n",
        "month_of_set\n",
        "\n",
        "month_of_set = month_of_set.groupby(pd.Grouper(freq = \"M\")).mean()\n",
        "dpp = pd.DataFrame({'index' :timestamptomonth(month_of_set.index),'mean' : month_of_set.values  })\n",
        "perisan_month=('Farvardin','Ordibehesht','Khordad','Tir','Mordard','Sharivar','Mehr','Aban','Azar','Day','Bahman','Esfand')\n",
        "plt.figure(figsize=(12, 6))\n",
        "plt.plot(perisan_month, dpp['mean'], marker='o', linestyle='-')\n",
        "plt.xlabel('month')\n",
        "plt.ylabel('miyangine ejare')\n",
        "plt.title('trend miyangin ejare')\n",
        "plt.grid(True)\n",
        "plt.xticks(rotation=45)\n",
        "plt.tight_layout()\n",
        "plt.show()"
      ]
    },
    {
      "cell_type": "markdown",
      "source": [
        "در طول زمان قیمت‌های اسمی افزایش پیدا می‌کنند اما این افزایش لزوما به معنی بالارفتن ارزش واقعی ملک نیست و می‌تواند ناشی از تورم باشد. به ازای میانگین مبلغ قیمت(price_value) در سال‌های ۱۴۰۰ تا ۱۴۰۳ قیمت حقیقی را محاسبه کنید و بررسی کنید ترند قیمت حقیقی چگونه است."
      ],
      "metadata": {
        "id": "cUtrUVUR0R9j"
      }
    },
    {
      "cell_type": "code",
      "execution_count": null,
      "metadata": {
        "id": "3p1g9VI6VjnK"
      },
      "outputs": [],
      "source": [
        "def toshamsi(x):\n",
        "    date = jdatetime.fromgregorian(datetime = x)\n",
        "    return date.year\n",
        "\n",
        "date = pd.Series(pd.to_datetime(Divar_data['created_at_month']))\n",
        "date = date.map(lambda x : toshamsi(x))\n"
      ]
    },
    {
      "cell_type": "code",
      "execution_count": null,
      "metadata": {
        "collapsed": true,
        "id": "2Do3H46yyPyO"
      },
      "outputs": [],
      "source": [
        "date = pd.DataFrame({'Years': date.values , 'price_value' : Divar_data['price_value'].values })\n"
      ]
    },
    {
      "cell_type": "code",
      "execution_count": null,
      "metadata": {
        "id": "nVSxt-Oa0fQX"
      },
      "outputs": [],
      "source": [
        "date.sort_values(by = ['Years'])\n",
        "groped = date.groupby(pd.Grouper(key = 'Years')).mean()\n",
        "groped = groped[0:4]\n",
        "groped.sort_index(inplace = True)\n",
        "true_values = [(groped.values[0]*100)/150 ,(groped.values[0]*100)/240,(groped.values[0]*100)/408,(groped.values[0]*100)/571]\n",
        "\n",
        "\n",
        "plt.figure(figsize=(10, 6))\n",
        "plt.plot(groped.index, groped.values, label= 'Market_Value', marker='o')\n",
        "plt.plot(groped.index, true_values, label='True_Value', marker='s')\n",
        "plt.xlabel('Year')\n",
        "plt.ylabel('Value')\n",
        "plt.title('copmarision between years 1400-1403')\n",
        "plt.legend()\n",
        "plt.grid(True)\n",
        "plt.show()"
      ]
    },
    {
      "cell_type": "markdown",
      "source": [
        " ماتریس هم‌بستگی را برای مبلغ قیمت، متراژ زمین، زیربنا، ظرفیت نفرات، تعداد اتاق‌ها و طول و عرض جغرافیایی رسم نمایید."
      ],
      "metadata": {
        "id": "HBixk8md0YMy"
      }
    },
    {
      "cell_type": "code",
      "execution_count": null,
      "metadata": {
        "collapsed": true,
        "id": "uYciEb3cAM1Z"
      },
      "outputs": [],
      "source": [
        "matrix_data = pd.DataFrame({\n",
        "    'price_value' : Divar_data['price_value'].values ,\n",
        "    'land_size' : Divar_data['land_size'].values ,\n",
        "    'building_size' : Divar_data['building_size'].values ,\n",
        "    'person_capacity' : Divar_data['regular_person_capacity'].values,\n",
        "    'rooms_count' : Divar_data['rooms_count'].values ,\n",
        "    'location_longitude' : Divar_data['location_longitude'].values,\n",
        "    'location_latitude' : Divar_data['location_latitude'].values\n",
        "})\n",
        "\n",
        "\n",
        "for i in Divar_data['rooms_count'].index:\n",
        "    if   matrix_data['rooms_count'][i] == 'یک' : matrix_data['rooms_count'][i] = 1\n",
        "    elif matrix_data['rooms_count'][i] == 'دو' : matrix_data['rooms_count'][i] = 2\n",
        "    elif matrix_data['rooms_count'][i] == 'سه' : matrix_data['rooms_count'][i] = 3\n",
        "    elif matrix_data['rooms_count'][i] == 'چهار' : matrix_data['rooms_count'][i] = 4\n",
        "    elif matrix_data['rooms_count'][i] == 'بدون اتاق': matrix_data['rooms_count'][i] = 0\n",
        "    elif matrix_data['rooms_count'][i] =='پنج یا بیشتر' : matrix_data['rooms_count'][i] = 5"
      ]
    },
    {
      "cell_type": "code",
      "execution_count": null,
      "metadata": {
        "id": "7dTNtONPQdXe"
      },
      "outputs": [],
      "source": [
        "correlation_matrix = matrix_data.corr()\n",
        "plt.figure(figsize=(10, 8))\n",
        "sns.heatmap(correlation_matrix, annot=True, cmap='coolwarm', fmt='.2f', linewidths=0.5)\n",
        "plt.title('matrix_hambastegi')\n",
        "plt.show()"
      ]
    },
    {
      "cell_type": "markdown",
      "source": [
        "می‌خواهیم بررسی کنیم خانه‌هایی که دارای بالکن، آسانسور، نگهبان، باربیکیو و استخر هستند عمدتا در کدام مناطق قرار دارند. با نمودار مناسب این موضوع را نشان دهید."
      ],
      "metadata": {
        "id": "Mo9dR2Pt0b_9"
      }
    },
    {
      "cell_type": "code",
      "execution_count": null,
      "metadata": {
        "id": "fL_0XgzjSR7q",
        "collapsed": true
      },
      "outputs": [],
      "source": [
        "last_data = Divar_data[['has_security_guard','has_elevator','has_pool','has_barbecue','has_balcony','location_longitude','location_latitude']]\n",
        "last_data.dropna(subset=['location_longitude','location_latitude'],inplace = True)\n",
        "map = folium.Map(location=[35.7, 51.4], zoom_start=12)\n",
        "\n",
        "for emcan in ['has_balcony', 'has_elevator', 'has_security_guard', 'has_barbecue', 'has_pool']:\n",
        "    filtered_last_data = last_data[last_data[emcan] == True]\n",
        "    heat_data = [[row['location_latitude'], row['location_longitude']] for _, row in last_data.iterrows()]\n",
        "    HeatMap(heat_data, name=f\"{emcan} ({len(filtered_last_data)})\", radius=12, blur=10, max_zoom=15).add_to(map)\n",
        "\n",
        "folium.LayerControl().add_to(map)\n",
        "\n",
        "map"
      ]
    },
    {
      "cell_type": "markdown",
      "source": [
        "با توجه به رشد مهاجرت افراد از شهر‌های کوچکتر به کلان‌شهر‌ها و تراکم جمعیت در این نواحی، تصور می‌شود که میانگین مساحت خانه‌های مسکونی در کلان‌شهرها نسبت به شهر‌های کوچک و روستاها کمتر است. آیا مجموعه داده‌ این فرضیه را پشتیبانی می‌کند؟(برای دسته‌بندی شهرها به کلان‌شهر و شهر کوچک می‌توانید از این مجموعه داده استفاده کنید.)\n",
        "\n",
        "این فرض درستی است .اما این داده ها این فرض را تایید نمی کند.زیرا صرفا مساحت خانه های اگهی این فرض را تایید نمی کند\n",
        "باید مساحت خانه ها را و تراکم جعیت را درطول زمان برسی کرد.\n",
        "\n",
        "\n"
      ],
      "metadata": {
        "id": "DgqAkLFBr8O-"
      }
    },
    {
      "cell_type": "markdown",
      "source": [
        "معمولا این جمله را می‌شنویم که «قدیما خونه‌ها دلبازتر بود!» برای بررسی این فرضیه، آیا میانگین مساحت خانه‌های قدیمی‌ساخت نسبت به خانه‌های جدید ساخت بیشتر است؟( خانه‌های قدیمی‌ساخت را خانه‌هایی در نظر بگیرید که قبل از سال ۹۶ ساخته شده‌اند.)\n",
        "\n",
        "طبق این داده ها خیر"
      ],
      "metadata": {
        "id": "uPhN2SzItNrP"
      }
    },
    {
      "cell_type": "code",
      "source": [
        "year_size = pd.DataFrame({\"year\" : pd.to_datetime(Divar_data['created_at_month']).map(lambda x : x.year),\"size\":Divar_data['building_size']})\n",
        "year_size.sort_values(by=['year'],inplace =True)\n",
        "year_size_group = year_size.groupby(pd.Grouper(key = 'year')).mean()\n",
        "year_size_group\n",
        "\n",
        "plt.figure(figsize=(10, 6))\n",
        "plt.plot(year_size_group.index,year_size_group.values, label= 'Size or year', marker='o')\n",
        "plt.xlabel('Year')\n",
        "plt.ylabel('size')\n",
        "plt.grid = True\n",
        "\n",
        "plt.show()"
      ],
      "metadata": {
        "id": "DiFEk1hBtR_I"
      },
      "execution_count": null,
      "outputs": []
    },
    {
      "cell_type": "markdown",
      "source": [
        "داشتن سند تجاری (یا هر نوع سند ملکی) در املاک به این معنی است که سند مالکیت معتبر، رسمی و قانونی برای ملک تجاری دارید. این سند نشان می‌دهد که شما صاحب قانونی ملک تجاری هستید و می‌توانید از حقوق مالکیت آن استفاده کنید. بررسی کنید که آیا داشتن سند تجاری(has_business_deed) بر میانگین قیمت فروش ملک تجاری تاثیر معناداری دارد؟"
      ],
      "metadata": {
        "id": "_urPRM6fxvlZ"
      }
    },
    {
      "cell_type": "code",
      "source": [
        "sanad_price =  pd.DataFrame({\"sanad\" : Divar_data['has_business_deed'],\"price\":Divar_data['price_value']})\n",
        "sanad_price_group =sanad_price.groupby(pd.Grouper(key = 'sanad')).mean()\n",
        "sanad_price_group\n"
      ],
      "metadata": {
        "id": "2r17A9PCwZB4"
      },
      "execution_count": null,
      "outputs": []
    }
  ],
  "metadata": {
    "accelerator": "TPU",
    "colab": {
      "gpuType": "V28",
      "provenance": []
    },
    "kernelspec": {
      "display_name": "Python 3",
      "name": "python3"
    },
    "language_info": {
      "name": "python"
    }
  },
  "nbformat": 4,
  "nbformat_minor": 0
}